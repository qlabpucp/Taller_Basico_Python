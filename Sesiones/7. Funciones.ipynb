{
 "cells": [
  {
   "cell_type": "markdown",
   "metadata": {
    "id": "iMl6_DigvbZz"
   },
   "source": []
  },
  {
   "cell_type": "markdown",
   "metadata": {
    "id": "SRFhv5DBTneG"
   },
   "source": [
    "#Funciones\n",
    "Las funciones son una **serie de sentencias** que pueden ser referenciadas mediante un solo nombre. Se usan para acortar el código que estemos ejecutando y evitar repetir una serie de comandos muchas veces. \n",
    "Existen 2 clases de funciones, las predefinidas por Python como `print()`, `type()`; y las definidas por el usuario.\n",
    "zzzzz\n",
    "\n",
    "##Estructura de una función\n",
    "Toda función tiene la siguiente forma:"
   ]
  },
  {
   "cell_type": "code",
   "execution_count": null,
   "metadata": {
    "id": "Xb1_yuMmTghs"
   },
   "outputs": [],
   "source": [
    "def promedio(a, b):\n",
    "    '''\n",
    "    Esta función devuelve el promedio de dos números\n",
    "    Inputs: \n",
    "        a: número\n",
    "        b: número\n",
    "    Outputs:\n",
    "        resultado: un número\n",
    "    '''\n",
    "    resultado = (a + b)/2\n",
    "    return resultado"
   ]
  },
  {
   "cell_type": "markdown",
   "metadata": {
    "id": "hG6Berz0AO2t"
   },
   "source": [
    " \n",
    "\n",
    "1. En primer lugar, se usa el comando def, el cual sirve para ordenar a Python que queremos ingresar una nueva función. \n",
    "2. Luego, se pone el nombre de la función seguido de los argumentos entre paréntesis y separados por comas. *No debemos olvidar los dos puntos al final de la línea.*\n",
    "3. Posteriormente, se añaden las siguientes líneas indentadas:\n",
    "    *  La documentación de la función. Esta comienza y termina con tres comillas.\n",
    "    * Las sentencias que se van a ejecutar\n",
    "    * El comando return seguido del output de la función.\n",
    "\n",
    "Si ejecutamos el resultado de la función anterior obtendremos el siguiente resultado:"
   ]
  },
  {
   "cell_type": "code",
   "execution_count": null,
   "metadata": {
    "colab": {
     "base_uri": "https://localhost:8080/"
    },
    "id": "4gZzew5iBo5v",
    "outputId": "e781e757-35d8-4323-c024-22059a3c9bf8"
   },
   "outputs": [
    {
     "data": {
      "text/plain": [
       "2.0"
      ]
     },
     "execution_count": 3,
     "metadata": {},
     "output_type": "execute_result"
    }
   ],
   "source": [
    "promedio(1, 3)"
   ]
  },
  {
   "cell_type": "markdown",
   "metadata": {
    "id": "gCj17Tuq-6Xh"
   },
   "source": [
    "¿Dos outputs?"
   ]
  },
  {
   "cell_type": "code",
   "execution_count": null,
   "metadata": {
    "colab": {
     "base_uri": "https://localhost:8080/"
    },
    "id": "QWFEKcwC-amw",
    "outputId": "8d16f60c-45a9-4e94-9f7e-5cff9e57d10a"
   },
   "outputs": [
    {
     "data": {
      "text/plain": [
       "[2.0, 4]"
      ]
     },
     "execution_count": 4,
     "metadata": {},
     "output_type": "execute_result"
    }
   ],
   "source": [
    "def promedioysuma(a, b):\n",
    "    '''\n",
    "    Esta función devuelve el promedio de dos números\n",
    "    Inputs: \n",
    "        a: número\n",
    "        b: número\n",
    "    Outputs:\n",
    "        resultado: un número\n",
    "    '''\n",
    "    resultado = (a + b)/2\n",
    "    suma = a + b\n",
    "    return [resultado, suma]\n",
    "\n",
    "promedioysuma(1, 3)"
   ]
  },
  {
   "cell_type": "markdown",
   "metadata": {
    "id": "qM6IJAobBn66"
   },
   "source": [
    "##¿return o print?\n",
    "También podemos obtener el resultado de una función mediante el comando print(). Sin embargo, el resultado que devuelva esta sintaxis será de tipo 'NoneType', mientras que en una función númerica, return nos devolverá una variable de tipo int. Esto puede ser importante si la función forma parte de un programa más grande.\n",
    "\n"
   ]
  },
  {
   "cell_type": "code",
   "execution_count": null,
   "metadata": {
    "colab": {
     "base_uri": "https://localhost:8080/"
    },
    "id": "zbsyZguRCZFe",
    "outputId": "57366da3-0adc-4e43-84ae-bce45ccc1a45"
   },
   "outputs": [
    {
     "name": "stdout",
     "output_type": "stream",
     "text": [
      "2.0\n"
     ]
    },
    {
     "data": {
      "text/plain": [
       "NoneType"
      ]
     },
     "execution_count": 11,
     "metadata": {},
     "output_type": "execute_result"
    }
   ],
   "source": [
    "def promedio(a, b):\n",
    "    '''\n",
    "    Esta función devuelve el promedio de dos números\n",
    "    Inputs: \n",
    "        a: número\n",
    "        b: número\n",
    "    Outputs:\n",
    "        resultado: un número\n",
    "    '''\n",
    "    resultado = (a + b)/2\n",
    "    print(resultado)\n",
    "\n",
    "promedio1 = promedio(1, 3)\n",
    "type(promedio1)"
   ]
  },
  {
   "cell_type": "code",
   "execution_count": null,
   "metadata": {
    "colab": {
     "base_uri": "https://localhost:8080/",
     "height": 166
    },
    "id": "oE0GW_8yC5h9",
    "outputId": "11b07ea9-e93c-48ef-b055-57243300cd89"
   },
   "outputs": [
    {
     "ename": "TypeError",
     "evalue": "ignored",
     "output_type": "error",
     "traceback": [
      "\u001b[0;31m---------------------------------------------------------------------------\u001b[0m",
      "\u001b[0;31mTypeError\u001b[0m                                 Traceback (most recent call last)",
      "\u001b[0;32m<ipython-input-10-7855c711381c>\u001b[0m in \u001b[0;36m<module>\u001b[0;34m()\u001b[0m\n\u001b[0;32m----> 1\u001b[0;31m \u001b[0;36m1\u001b[0m\u001b[0;34m+\u001b[0m\u001b[0mpromedio1\u001b[0m\u001b[0;34m\u001b[0m\u001b[0;34m\u001b[0m\u001b[0m\n\u001b[0m",
      "\u001b[0;31mTypeError\u001b[0m: unsupported operand type(s) for +: 'int' and 'NoneType'"
     ]
    }
   ],
   "source": [
    "1+promedio1"
   ]
  },
  {
   "cell_type": "markdown",
   "metadata": {
    "id": "kowYZ6OgaZ7H"
   },
   "source": [
    "##Funciones sin parámetros\n",
    "Estas funciones no requieren ingresar parámetros."
   ]
  },
  {
   "cell_type": "code",
   "execution_count": null,
   "metadata": {
    "colab": {
     "base_uri": "https://localhost:8080/"
    },
    "id": "ZkxSe_C3DVXf",
    "outputId": "6d7f37b1-b936-4809-95d6-980aa9b8676b"
   },
   "outputs": [
    {
     "name": "stdout",
     "output_type": "stream",
     "text": [
      "Las funciones son una serie de sentencias que pueden ser referenciadas mediante un solo nombre\n"
     ]
    }
   ],
   "source": [
    "def definicion_función():\n",
    "    print(\"Las funciones son una serie de sentencias que pueden ser referenciadas mediante un solo nombre\")\n",
    "\n",
    "definicion_función()"
   ]
  },
  {
   "cell_type": "markdown",
   "metadata": {
    "id": "zj2VxWxzEA_3"
   },
   "source": [
    "##Argumentos posicionales y con palabras clave\n",
    "Python entenderá que los argumentos se ingresan en el orden en el que se ha definido la función. "
   ]
  },
  {
   "cell_type": "code",
   "execution_count": null,
   "metadata": {
    "id": "iYmzwYqMEh0M"
   },
   "outputs": [],
   "source": [
    "def imc(peso, estatura):\n",
    "    '''\n",
    "    Esta función devuelve tu indice de masa corporal\n",
    "    inputs: \n",
    "        peso: peso en kg\n",
    "        estatura: estatura en cm\n",
    "    outputs:\n",
    "        resultado: tu imc\n",
    "    '''\n",
    "    indice = peso/(estatura/100)**2\n",
    "    return indice"
   ]
  },
  {
   "cell_type": "code",
   "execution_count": null,
   "metadata": {
    "colab": {
     "base_uri": "https://localhost:8080/"
    },
    "id": "oG6WpI17Fp29",
    "outputId": "beff9c90-8704-4178-df8e-89854cfda180"
   },
   "outputs": [
    {
     "data": {
      "text/plain": [
       "22.03856749311295"
      ]
     },
     "execution_count": 15,
     "metadata": {},
     "output_type": "execute_result"
    }
   ],
   "source": [
    "imc(60, 165)"
   ]
  },
  {
   "cell_type": "code",
   "execution_count": null,
   "metadata": {
    "colab": {
     "base_uri": "https://localhost:8080/"
    },
    "id": "PunF1DJMFy6q",
    "outputId": "47f00da0-2d5d-4649-a007-48845f03dbc4"
   },
   "outputs": [
    {
     "data": {
      "text/plain": [
       "458.33333333333337"
      ]
     },
     "execution_count": 16,
     "metadata": {},
     "output_type": "execute_result"
    }
   ],
   "source": [
    "imc(165, 60)"
   ]
  },
  {
   "cell_type": "markdown",
   "metadata": {
    "id": "4OJ_0br4F7E5"
   },
   "source": [
    "Sin embargo, podemos utilizar palabras clave para ingresar los argumentos en un orden distinto al que se ha expresado al definir una función."
   ]
  },
  {
   "cell_type": "code",
   "execution_count": null,
   "metadata": {
    "colab": {
     "base_uri": "https://localhost:8080/"
    },
    "id": "FO21npMhF6mU",
    "outputId": "a789c26e-04a2-42a3-e450-d8150d9eae96"
   },
   "outputs": [
    {
     "data": {
      "text/plain": [
       "22.03856749311295"
      ]
     },
     "execution_count": 17,
     "metadata": {},
     "output_type": "execute_result"
    }
   ],
   "source": [
    "imc(estatura = 165, peso = 60)"
   ]
  },
  {
   "cell_type": "markdown",
   "metadata": {
    "id": "UUiVzfRRGpsC"
   },
   "source": [
    "##Alcance de las variables\n",
    "Las varibles que definimos adetro de una función solo se podran usar dentro de esta. Si llamamos a una variable creada adentro de la función fuera de ella, Python nos dirá que no esta definida."
   ]
  },
  {
   "cell_type": "code",
   "execution_count": null,
   "metadata": {
    "id": "JvvhWQE6Go0C"
   },
   "outputs": [],
   "source": [
    "def imc(peso, estatura):\n",
    "    '''\n",
    "    Esta función devuelve tu indice de masa corporal\n",
    "    inputs: \n",
    "        peso: peso en kg\n",
    "        estatura: estatura en cm\n",
    "    outputs:\n",
    "        resultado: tu imc\n",
    "    '''\n",
    "    est_cm = estatura/100\n",
    "    indice = peso/(est_cm)**2\n",
    "    return indice"
   ]
  },
  {
   "cell_type": "code",
   "execution_count": null,
   "metadata": {
    "colab": {
     "base_uri": "https://localhost:8080/"
    },
    "id": "y0XjHehRIA68",
    "outputId": "9facaeb3-25a6-4ec6-ab70-3edca7bb0742"
   },
   "outputs": [
    {
     "data": {
      "text/plain": [
       "22.03856749311295"
      ]
     },
     "execution_count": 20,
     "metadata": {},
     "output_type": "execute_result"
    }
   ],
   "source": [
    "p = 60\n",
    "est = 165\n",
    "imc(p, est)"
   ]
  },
  {
   "cell_type": "code",
   "execution_count": null,
   "metadata": {
    "colab": {
     "base_uri": "https://localhost:8080/",
     "height": 166
    },
    "id": "4DqWHP8fIT-u",
    "outputId": "1fa0b7ea-6aba-4395-f405-716f99b9e2c2"
   },
   "outputs": [
    {
     "ename": "NameError",
     "evalue": "ignored",
     "output_type": "error",
     "traceback": [
      "\u001b[0;31m---------------------------------------------------------------------------\u001b[0m",
      "\u001b[0;31mNameError\u001b[0m                                 Traceback (most recent call last)",
      "\u001b[0;32m<ipython-input-21-95aa3d21d432>\u001b[0m in \u001b[0;36m<module>\u001b[0;34m()\u001b[0m\n\u001b[0;32m----> 1\u001b[0;31m \u001b[0mest_cm\u001b[0m\u001b[0;34m\u001b[0m\u001b[0;34m\u001b[0m\u001b[0m\n\u001b[0m",
      "\u001b[0;31mNameError\u001b[0m: name 'est_cm' is not defined"
     ]
    }
   ],
   "source": [
    "est_cm"
   ]
  },
  {
   "cell_type": "markdown",
   "metadata": {
    "id": "gjgHXTxdIhDx"
   },
   "source": [
    "* Python no reconoce la variable est_cm por que esta tiene un **alcance local**, solo es valida dentro de la función. \n",
    "* En cambio, las variables definidas en el script principal tienen un **alcance global**, pueden ser utilizadas en el script principal y adentro de las funciones. "
   ]
  },
  {
   "cell_type": "code",
   "execution_count": null,
   "metadata": {
    "colab": {
     "base_uri": "https://localhost:8080/"
    },
    "id": "d2gugxQJJG7f",
    "outputId": "3b40f61e-a262-48bf-e9e4-ae1d7c229bb2"
   },
   "outputs": [
    {
     "data": {
      "text/plain": [
       "22.03856749311295"
      ]
     },
     "execution_count": 15,
     "metadata": {},
     "output_type": "execute_result"
    }
   ],
   "source": [
    "para_dividir = 100\n",
    "\n",
    "def imc3(peso, estatura):\n",
    "    '''\n",
    "    Esta función devuelve tu indice de masa corporal\n",
    "    inputs: \n",
    "        peso: peso en kg\n",
    "        estatura: estatura en cm\n",
    "    outputs:\n",
    "        resultado: tu imc\n",
    "    '''\n",
    "    est_cm = estatura/para_dividir\n",
    "    indice = peso/(est_cm)**2\n",
    "    return indice\n",
    "\n",
    "imc3(p, est)"
   ]
  },
  {
   "cell_type": "markdown",
   "metadata": {
    "id": "D80pWSLKKpME"
   },
   "source": [
    "##Importar funciones\n",
    "Podemos importar funciones de otros scripts. De hecho, lo que nosotros llamamos módulos o paquetes son otros scripts de Python de los cuales importamos determinadas funciones."
   ]
  },
  {
   "cell_type": "code",
   "execution_count": null,
   "metadata": {
    "colab": {
     "base_uri": "https://localhost:8080/"
    },
    "id": "O19pm_q1LD8h",
    "outputId": "5e41565a-4462-44ee-beeb-8917a3f75085"
   },
   "outputs": [
    {
     "name": "stdout",
     "output_type": "stream",
     "text": [
      "Mounted at /content/drive\n",
      "\u001b[K     |████████████████████████████████| 57 kB 2.9 MB/s \n",
      "\u001b[?25h"
     ]
    }
   ],
   "source": [
    "#Este codigo nos permite importar scripts desde nuestro mismo drive\n",
    "#El script actual y el que contiene la función que importaremos deben estar en la misma carpeta\n",
    "\n",
    "from google.colab import drive\n",
    "drive.mount('/content/drive')\n",
    "\n",
    "!pip install kora -q\n",
    "from kora import drive\n",
    "drive.link_nbs()"
   ]
  },
  {
   "cell_type": "markdown",
   "metadata": {
    "id": "wdYqtkIQfLV4"
   },
   "source": [
    "Hemos creado un script llamado *funcion_aux*. Esta contiene una sola función llamada *es_pobre_f*. A continuación, imoortaremos esta función de tres maneras diferentes."
   ]
  },
  {
   "cell_type": "code",
   "execution_count": null,
   "metadata": {
    "colab": {
     "base_uri": "https://localhost:8080/"
    },
    "id": "Rp9zCYmC4Uo3",
    "outputId": "beaa00f2-8327-4948-af30-127b37e85cc8"
   },
   "outputs": [
    {
     "name": "stdout",
     "output_type": "stream",
     "text": [
      "importing Jupyter notebook from /nbs/funcion_aux.ipynb\n",
      "True\n",
      "True\n",
      "True\n"
     ]
    }
   ],
   "source": [
    "personas = 3\n",
    "habitaciones  = 1\n",
    "agua_potable  = 1\n",
    "desague = 1\n",
    "niños_s_escuela  = 0\n",
    "ingreso  = 4000\n",
    "\n",
    "#Las diferentes formas de importar una función:\n",
    "\n",
    "#Por prefijo: Nos permite acceder a todas las funciones utilizando un prefijo\n",
    "import funcion_aux as aux\n",
    "print(aux.es_pobre_f(personas, habitaciones, agua_potable, desague, niños_s_escuela, ingreso))\n",
    "\n",
    "#Con *: Podemos accerder a todas las funciones sin utilizar un prefijo\n",
    "from funcion_aux import * \n",
    "print(es_pobre_f(personas, habitaciones, agua_potable, desague, niños_s_escuela, ingreso))\n",
    "\n",
    "#Solo una funcion: Podremos acceder solo a la funcion que importemos\n",
    "from funcion_aux import es_pobre_f\n",
    "print(es_pobre_f(personas, habitaciones, agua_potable, desague, niños_s_escuela, ingreso))"
   ]
  }
 ],
 "metadata": {
  "colab": {
   "name": "Funciones.ipynb",
   "provenance": []
  },
  "kernelspec": {
   "display_name": "Python 3 (ipykernel)",
   "language": "python",
   "name": "python3"
  },
  "language_info": {
   "codemirror_mode": {
    "name": "ipython",
    "version": 3
   },
   "file_extension": ".py",
   "mimetype": "text/x-python",
   "name": "python",
   "nbconvert_exporter": "python",
   "pygments_lexer": "ipython3",
   "version": "3.9.13"
  }
 },
 "nbformat": 4,
 "nbformat_minor": 4
}
