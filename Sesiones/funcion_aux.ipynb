{
 "cells": [
  {
   "cell_type": "markdown",
   "metadata": {
    "colab_type": "text",
    "id": "view-in-github"
   },
   "source": [
    "<a href=\"https://colab.research.google.com/github/darlaabril/Taller-Python/blob/main/funcion_aux.ipynb\" target=\"_parent\"><img src=\"https://colab.research.google.com/assets/colab-badge.svg\" alt=\"Open In Colab\"/></a>"
   ]
  },
  {
   "cell_type": "code",
   "execution_count": null,
   "metadata": {
    "colab": {
     "base_uri": "https://localhost:8080/"
    },
    "id": "m2IRuFSC1Zo1",
    "outputId": "51f31bf6-7f66-4205-9ee5-145d67865a3a"
   },
   "outputs": [
    {
     "data": {
      "text/plain": [
       "True"
      ]
     },
     "execution_count": 3,
     "metadata": {},
     "output_type": "execute_result"
    }
   ],
   "source": [
    "def es_pobre_f(personas, habitaciones, agua_potable, desague, niños_s_escuela, ingreso):\n",
    "    '''\n",
    "    Esta función te indica si un hogar es pobre según NBI's\n",
    "    inputs: \n",
    "        personas:número de personas\n",
    "        habitaciones: número de habitaciones\n",
    "        agua_potable: la vivienda tiene agua potable, si=1, no=0\n",
    "        desague: la vivienda tiene desague\n",
    "        niños_s_escuela: cuantos niños no asisten a la escuela?\n",
    "        ingreso: en soles\n",
    "    outputs:\n",
    "        resultado: la persona es pobre según NBI's?\n",
    "    '''\n",
    "\n",
    "    no_hacinamiento = 0\n",
    "    agua_potable = 0\n",
    "    desague = 0\n",
    "    educacion = 0\n",
    "    b_monetario = 0\n",
    "\n",
    "    if personas/habitaciones < 2.4:\n",
    "        no_hacinamiento = True\n",
    "    if niños_s_escuela > 0:\n",
    "        educacion = True\n",
    "    if ingreso/personas > 360:\n",
    "        b_monetario = True\n",
    "    es_pobre = not(no_hacinamiento and agua_potable and educacion and desague and b_monetario)\n",
    "    \n",
    "    return(es_pobre)"
   ]
  }
 ],
 "metadata": {
  "colab": {
   "collapsed_sections": [],
   "include_colab_link": true,
   "name": "funcion_aux.ipynb",
   "provenance": []
  },
  "kernelspec": {
   "display_name": "Python 3 (ipykernel)",
   "language": "python",
   "name": "python3"
  },
  "language_info": {
   "codemirror_mode": {
    "name": "ipython",
    "version": 3
   },
   "file_extension": ".py",
   "mimetype": "text/x-python",
   "name": "python",
   "nbconvert_exporter": "python",
   "pygments_lexer": "ipython3",
   "version": "3.9.13"
  }
 },
 "nbformat": 4,
 "nbformat_minor": 4
}
