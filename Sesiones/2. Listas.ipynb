{
 "cells": [
  {
   "cell_type": "markdown",
   "metadata": {
    "colab_type": "text",
    "id": "view-in-github"
   },
   "source": [
    "<a href=\"https://colab.research.google.com/github/darlaabril/Taller-Python/blob/main/Listas.ipynb\" target=\"_parent\"><img src=\"https://colab.research.google.com/assets/colab-badge.svg\" alt=\"Open In Colab\"/></a>"
   ]
  },
  {
   "cell_type": "markdown",
   "metadata": {
    "id": "HD8XWKcIk2GJ"
   },
   "source": [
    "# Listas"
   ]
  },
  {
   "cell_type": "markdown",
   "metadata": {
    "id": "JS2YYug6k2GO"
   },
   "source": [
    "Hasta ahora los tipos de datos que hemos estudiado tienen un sólo elemento. Sin embargo, hay estructuras más complejas que pueden contener varios de esos tipos de datos. \n",
    "\n",
    "Las listas nos permiten almacenar y trabajar varios tipos de datos como una lista ordenada de valores.\n",
    "\n",
    "Es una estructura de datos muy versátil y puede hacer muchas tareas. Se usa muchísimo al escribir Python ya que es muy sencilla y por ello muy ideal de aprender al principio.\n"
   ]
  },
  {
   "cell_type": "markdown",
   "metadata": {
    "id": "LZcUqv3bk2GQ"
   },
   "source": [
    "Elaboración de una lista"
   ]
  },
  {
   "cell_type": "code",
   "execution_count": null,
   "metadata": {
    "id": "BUYP6Kn3k2GR"
   },
   "outputs": [],
   "source": [
    "lst = [1,2,3,4,5] # Brackets con elementos separados por comas \n",
    "#recuerda no llamar la variable list para evitar complicaciones\n",
    "print(lst)\n"
   ]
  },
  {
   "cell_type": "code",
   "execution_count": null,
   "metadata": {
    "id": "9Z88k98PsJ0T"
   },
   "outputs": [],
   "source": [
    "type(lst)"
   ]
  },
  {
   "cell_type": "code",
   "execution_count": null,
   "metadata": {
    "id": "7_HT_YQ6k2GU"
   },
   "outputs": [],
   "source": [
    "Carreras = [\"Sociología\", \"Economía\", \"Antropologia\", \"Finanzas\", \"Ciencia Política\"]\n",
    "Carreras"
   ]
  },
  {
   "cell_type": "markdown",
   "metadata": {
    "id": "Nlg7ooy7k2GU"
   },
   "source": [
    "Las listas pueden contener elementos de diferentes tipos"
   ]
  },
  {
   "cell_type": "code",
   "execution_count": null,
   "metadata": {
    "id": "tprfDjZgk2GV"
   },
   "outputs": [],
   "source": [
    "mi_lista = [5, 'hola', 50.55, False,\"bitte\"]\n",
    "mi_lista"
   ]
  },
  {
   "cell_type": "markdown",
   "metadata": {
    "id": "QjJSYJhTk2GV"
   },
   "source": [
    "Usualmente, trabajamos con listas que tienen datos del mismo tipo, ya que iteramos con ellas y el código podría arrojar error. "
   ]
  },
  {
   "cell_type": "markdown",
   "metadata": {
    "id": "kkGGHx-zk2GW"
   },
   "source": [
    "Aquí los brackets son diferentes a los que se usan para rebanar strings!"
   ]
  },
  {
   "cell_type": "code",
   "execution_count": null,
   "metadata": {
    "id": "_OnLJve4k2GW"
   },
   "outputs": [],
   "source": [
    "mensaje = \"Facultad de Ciencias Sociales\"\n",
    "mensaje[0:10] #solo repite los 10 primeros caracteres"
   ]
  },
  {
   "cell_type": "code",
   "execution_count": null,
   "metadata": {
    "id": "uqax0I7gLQ_D"
   },
   "outputs": [],
   "source": [
    "len(mensaje) # cuantos caracteres tiene mensaje (incluye los espacios)"
   ]
  },
  {
   "cell_type": "markdown",
   "metadata": {
    "id": "7X3a9YIjk2GX"
   },
   "source": [
    "Aquí creamos una lista vacía"
   ]
  },
  {
   "cell_type": "code",
   "execution_count": null,
   "metadata": {
    "id": "QIiq70jbk2GX"
   },
   "outputs": [],
   "source": [
    "vacia = []\n",
    "vacia"
   ]
  },
  {
   "cell_type": "markdown",
   "metadata": {
    "id": "Sb1luJF_k2GX"
   },
   "source": [
    "Se pueden sumar listas"
   ]
  },
  {
   "cell_type": "code",
   "execution_count": null,
   "metadata": {
    "id": "e9aTPlhpk2GX"
   },
   "outputs": [],
   "source": [
    "primera_parte = [1, 2, 3, 4, 5]\n",
    "segunda_parte = [6, 7, 8, 9, 10]\n",
    "\n",
    "primera_parte + segunda_parte #se juntan las listas , no es necesario que sean del mismo tiempo"
   ]
  },
  {
   "cell_type": "code",
   "execution_count": null,
   "metadata": {
    "id": "QspxX34GL7py"
   },
   "outputs": [],
   "source": [
    "a = [1,2,3]\n",
    "b=[\"El gato\", \"el perro\"]\n",
    "a+b"
   ]
  },
  {
   "cell_type": "code",
   "execution_count": null,
   "metadata": {
    "id": "dhx_C-5Vk2GY"
   },
   "outputs": [],
   "source": [
    "primera_parte[0]  #empieza a contar desde cero, elemento 0 es el primer elemento de la lista"
   ]
  },
  {
   "cell_type": "markdown",
   "metadata": {
    "id": "QUK_Uq54k2GY"
   },
   "source": [
    "A veces queremos una lista de un tamaño determinado: "
   ]
  },
  {
   "cell_type": "code",
   "execution_count": null,
   "metadata": {
    "id": "n-ZFRnZpk2GY"
   },
   "outputs": [],
   "source": [
    "n = 15\n",
    "lst = [0] * n #15 veces repetirá el 0 como elemento\n",
    "lst"
   ]
  },
  {
   "cell_type": "code",
   "execution_count": null,
   "metadata": {
    "id": "fWEzd4iXk2GY"
   },
   "outputs": [],
   "source": [
    "n = 10\n",
    "lst = [0, 1, 2] * n\n",
    "print(lst)   ## La multiplicación repite la lista n veces\n"
   ]
  },
  {
   "cell_type": "markdown",
   "metadata": {
    "id": "KVDaK36Mk2GZ"
   },
   "source": [
    "Podemos ver cuántos elementos tiene una lista"
   ]
  },
  {
   "cell_type": "code",
   "execution_count": null,
   "metadata": {
    "id": "uTxyMuILk2GZ"
   },
   "outputs": [],
   "source": [
    "print(len(mi_lista))\n",
    "len(segunda_parte)\n",
    "len(lst)\n"
   ]
  },
  {
   "cell_type": "markdown",
   "metadata": {
    "id": "xyyzbtbJk2GZ"
   },
   "source": [
    "Se pueden acceder a elementos individuales de una lista.   \n",
    "\n",
    "Python es un lenguaje indexado en 0, por lo que la enumeración de las listas empieza en 0\n"
   ]
  },
  {
   "cell_type": "code",
   "execution_count": null,
   "metadata": {
    "id": "sr7AUKSUk2GZ"
   },
   "outputs": [],
   "source": [
    "Carreras"
   ]
  },
  {
   "cell_type": "code",
   "execution_count": null,
   "metadata": {
    "id": "pI0V6pffk2GZ"
   },
   "outputs": [],
   "source": [
    "Carreras[3]"
   ]
  },
  {
   "cell_type": "markdown",
   "metadata": {
    "id": "g46I1ZjDk2Ga"
   },
   "source": [
    "Se puede acceder a una rebanada de la lista"
   ]
  },
  {
   "cell_type": "code",
   "execution_count": null,
   "metadata": {
    "id": "pEs6oTw5k2Ga"
   },
   "outputs": [],
   "source": [
    "Carreras[0:4] ## El ultimo elemento del intervalo no está incluido!"
   ]
  },
  {
   "cell_type": "code",
   "execution_count": null,
   "metadata": {
    "id": "zLe1zTQZHNBh"
   },
   "outputs": [],
   "source": [
    "Carreras[1:4] "
   ]
  },
  {
   "cell_type": "code",
   "execution_count": null,
   "metadata": {
    "id": "qR_fDYWcINIt"
   },
   "outputs": [],
   "source": [
    "Carreras"
   ]
  },
  {
   "cell_type": "code",
   "execution_count": null,
   "metadata": {
    "id": "hpOKHHIhk2Ga"
   },
   "outputs": [],
   "source": [
    "Carreras[-1] # Eligiendo el último elemento de la  lista"
   ]
  },
  {
   "cell_type": "code",
   "execution_count": null,
   "metadata": {
    "id": "argDGYr2k2Ga"
   },
   "outputs": [],
   "source": [
    "Carreras[-2] # El penúltimo"
   ]
  },
  {
   "cell_type": "code",
   "execution_count": null,
   "metadata": {
    "id": "TWMJWUBDk2Ga"
   },
   "outputs": [],
   "source": [
    "print(Carreras[1:-2]) # Eligiendo desde el elemento 2 hasta el penúltimo (útil cuando no sabemos el total de los elementos)"
   ]
  },
  {
   "cell_type": "code",
   "execution_count": null,
   "metadata": {
    "id": "FVDgz9XJk2Ga"
   },
   "outputs": [],
   "source": [
    "nums = [0,1,2,3,4,5,6,7,8,9,11]\n",
    "nums[1:8:3] #Rebanando desde el elemento 1 al 8(no inclusivo) cada 2 elementos. "
   ]
  },
  {
   "cell_type": "code",
   "execution_count": null,
   "metadata": {
    "id": "3bcU7pRpk2Ga"
   },
   "outputs": [],
   "source": [
    "nums[::-1] ## Así invertimos una lista.  Si los elementos se quedan vacíos, asume todo el rango. "
   ]
  },
  {
   "cell_type": "code",
   "execution_count": null,
   "metadata": {
    "id": "xDXy4NC0ORMu"
   },
   "outputs": [],
   "source": [
    "len(nums)"
   ]
  },
  {
   "cell_type": "code",
   "execution_count": null,
   "metadata": {
    "id": "iNYlwhKw6AM9"
   },
   "outputs": [],
   "source": [
    "type(nums)"
   ]
  },
  {
   "cell_type": "markdown",
   "metadata": {
    "id": "SXkUvtZ0k2Ga"
   },
   "source": [
    "Las listas pueden tener indexes fuera de rango. En este ejemplo, el indice 20 se comporta igual que len(lst) + 1.  \n",
    "\n",
    "No tener que preocuparnos por los indexes, puede ser conveniente!"
   ]
  },
  {
   "cell_type": "code",
   "execution_count": null,
   "metadata": {
    "id": "xUXoqnLvk2Gb"
   },
   "outputs": [],
   "source": [
    "print(nums[0:5]) \n",
    "print(nums[0:2+ 1])\n",
    "print(nums[0:len(nums)])\n"
   ]
  },
  {
   "cell_type": "code",
   "execution_count": null,
   "metadata": {
    "id": "GpH0wmLuk2Gb"
   },
   "outputs": [],
   "source": [
    "len(nums)+ 1"
   ]
  },
  {
   "cell_type": "markdown",
   "metadata": {
    "id": "W4HRdv2Vk2Gb"
   },
   "source": [
    "## Modificando una lista\n",
    "\n",
    "Las listas son objetos **mutables**, lo cual indica que sus valores se pueden modificar después de su creación (se pueden cambiar, agregar, eliminar elementos). Otras estructuras, como los strings y las tuplas, no se pueden cambiar. "
   ]
  },
  {
   "cell_type": "markdown",
   "metadata": {
    "id": "GYUKQcAtk2Gb"
   },
   "source": [
    "Para modificar una lista, podemos hacer lo siguiente"
   ]
  },
  {
   "cell_type": "code",
   "execution_count": null,
   "metadata": {
    "id": "_zZZ9DIrk2Gb"
   },
   "outputs": [],
   "source": [
    "print(Carreras)\n",
    "\n"
   ]
  },
  {
   "cell_type": "code",
   "execution_count": null,
   "metadata": {
    "id": "sYvWTcKKt65l"
   },
   "outputs": [],
   "source": [
    "Carreras[3] = \"Relaciones Internacionales\"\n",
    "Carreras"
   ]
  },
  {
   "cell_type": "markdown",
   "metadata": {
    "id": "coxMDVdfk2Gb"
   },
   "source": [
    "## Una propiedad curiosa de las listas "
   ]
  },
  {
   "cell_type": "markdown",
   "metadata": {
    "id": "ghoZCKs2k2Gb"
   },
   "source": [
    "Imaginen que tenemos una lista, y queremos hacer una copia de dicha lista:"
   ]
  },
  {
   "cell_type": "code",
   "execution_count": null,
   "metadata": {
    "id": "1BPgjNpck2Gc"
   },
   "outputs": [],
   "source": [
    "lst_a = [1,2,3,4,5,6]\n",
    "lst_b = lst_a"
   ]
  },
  {
   "cell_type": "markdown",
   "metadata": {
    "id": "tbCkCOSqk2Gc"
   },
   "source": [
    "Ahora, modifiquemos la lst_a:"
   ]
  },
  {
   "cell_type": "code",
   "execution_count": null,
   "metadata": {
    "id": "2ReHLHoEk2Gc"
   },
   "outputs": [],
   "source": [
    "lst_a[2] = 10\n",
    "lst_a"
   ]
  },
  {
   "cell_type": "markdown",
   "metadata": {
    "id": "jlflCdxik2Gc"
   },
   "source": [
    "¿ Qué pasó con la otra lista? "
   ]
  },
  {
   "cell_type": "code",
   "execution_count": null,
   "metadata": {
    "id": "BADGutDPk2Gc"
   },
   "outputs": [],
   "source": [
    "lst_b #el cambio se ve reflejado en ambas listas"
   ]
  },
  {
   "cell_type": "markdown",
   "metadata": {
    "id": "uBeT4T2gk2Gc"
   },
   "source": [
    "\n",
    "\n",
    "### ¿Cómo probamos cuándo hacemos referencia al mismo objeto?"
   ]
  },
  {
   "cell_type": "markdown",
   "metadata": {
    "id": "BghpLrRgk2Gc"
   },
   "source": [
    "Aquí introducimos el comando `id`"
   ]
  },
  {
   "cell_type": "code",
   "execution_count": null,
   "metadata": {
    "id": "kkt-hojDk2Gc"
   },
   "outputs": [],
   "source": [
    "print(id(lst_a))\n",
    "print(id(lst_b)) ## Tienen los mismos ids"
   ]
  },
  {
   "cell_type": "markdown",
   "metadata": {
    "id": "yIuoow1fk2Gc"
   },
   "source": [
    "El operador `is` nos ayuda a determinar si dos variables se refieren al mismo objeto:"
   ]
  },
  {
   "cell_type": "code",
   "execution_count": null,
   "metadata": {
    "id": "-_TwPhUlk2Gd"
   },
   "outputs": [],
   "source": [
    "lst_a is lst_b"
   ]
  },
  {
   "cell_type": "markdown",
   "metadata": {
    "id": "Ibt74sYqk2Gd"
   },
   "source": [
    "### Haciendo una copia que no referencie al mismo objeto:\n",
    "\n",
    "Si queremos hacer una copia independiente basada en una lista preexistente, solo tenemos que hacer:"
   ]
  },
  {
   "cell_type": "code",
   "execution_count": null,
   "metadata": {
    "id": "7QDCbj87k2Gd"
   },
   "outputs": [],
   "source": [
    "lst_c  = lst_a[:]"
   ]
  },
  {
   "cell_type": "code",
   "execution_count": null,
   "metadata": {
    "id": "7yhbWFkRk2Gd"
   },
   "outputs": [],
   "source": [
    "id(lst_c)"
   ]
  },
  {
   "cell_type": "code",
   "execution_count": null,
   "metadata": {
    "id": "NFmMs6vok2Gd"
   },
   "outputs": [],
   "source": [
    "id(lst_a) #tienen diferentes ids"
   ]
  },
  {
   "cell_type": "code",
   "execution_count": null,
   "metadata": {
    "id": "OA9Zm2hok2Gd"
   },
   "outputs": [],
   "source": [
    "lst_c is lst_a"
   ]
  },
  {
   "cell_type": "code",
   "execution_count": null,
   "metadata": {
    "id": "EhegKHaIk2Gd"
   },
   "outputs": [],
   "source": [
    "lst_c == lst_a  #evaluación a nivel de contenido"
   ]
  },
  {
   "cell_type": "code",
   "execution_count": null,
   "metadata": {
    "id": "MsJoYDlvJwpk"
   },
   "outputs": [],
   "source": [
    "lst_c[2] = 14"
   ]
  },
  {
   "cell_type": "code",
   "execution_count": null,
   "metadata": {
    "id": "RLpUMrr0J2al"
   },
   "outputs": [],
   "source": [
    "lst_c == lst_a"
   ]
  },
  {
   "cell_type": "code",
   "execution_count": null,
   "metadata": {
    "id": "4tqNLkH7k2Ge"
   },
   "outputs": [],
   "source": [
    "lst_d = lst_a.copy() ## Otra forma de crear una copia con id diferente "
   ]
  },
  {
   "cell_type": "code",
   "execution_count": null,
   "metadata": {
    "id": "QDQSGTrX7P5M"
   },
   "outputs": [],
   "source": [
    "id(lst_d)"
   ]
  },
  {
   "cell_type": "markdown",
   "metadata": {
    "id": "xbbIqwAkk2Ge"
   },
   "source": [
    "### Métodos que modifican a las listas"
   ]
  },
  {
   "cell_type": "code",
   "execution_count": null,
   "metadata": {
    "id": "RtXDYSCbk2Ge"
   },
   "outputs": [],
   "source": [
    "Carreras = [\"Sociología\", \"Economía\", \"Antropologia\", \"Finanzas\", \"Ciencia Política\"]\n"
   ]
  },
  {
   "cell_type": "markdown",
   "metadata": {
    "id": "mK2o4hEkk2Ge"
   },
   "source": [
    "### - `append`"
   ]
  },
  {
   "cell_type": "code",
   "execution_count": null,
   "metadata": {
    "id": "p1JOqOX3k2Ge"
   },
   "outputs": [],
   "source": [
    "Carreras.append(\"RRII\")\n",
    "Carreras"
   ]
  },
  {
   "cell_type": "markdown",
   "metadata": {
    "id": "VqibLn40k2Ge"
   },
   "source": [
    "### - `extend` \n",
    "(solo acepta un único argumento iterable, como otra lista!)"
   ]
  },
  {
   "cell_type": "code",
   "execution_count": null,
   "metadata": {
    "id": "3BGSGE28k2Ge"
   },
   "outputs": [],
   "source": [
    "mas_Carreras = ['Geografia', 'Historia']\n",
    "Carreras_copy = Carreras[:] #definimos la lista carreras_copy\n",
    "Carreras_copy.extend(mas_Carreras)\n",
    "Carreras_copy"
   ]
  },
  {
   "cell_type": "code",
   "execution_count": null,
   "metadata": {
    "id": "TTmcA193k2Ge"
   },
   "outputs": [],
   "source": [
    "Carreras_copy = Carreras[:] #si hubieramos usado el append\n",
    "Carreras_copy.append(mas_Carreras)\n",
    "Carreras_copy  #toma la lista mas_carreras como un elemento más de carreras_copy"
   ]
  },
  {
   "cell_type": "markdown",
   "metadata": {
    "id": "wSmvdKLWk2Ge"
   },
   "source": [
    "### - `insert`\n",
    "\n",
    "Este método toma 2 argumentos: la posición en la lista y el elemento a agregar\n"
   ]
  },
  {
   "cell_type": "code",
   "execution_count": null,
   "metadata": {
    "id": "cRrlbSoLk2Ge"
   },
   "outputs": [],
   "source": [
    "Carreras = [\"Sociología\", \"Economía\", \"Antropologia\", \"Finanzas\", \"Ciencia Política\"]\n",
    "\n",
    "Carreras.insert(1,\"Relaciones Internacionales\")\n",
    "Carreras"
   ]
  },
  {
   "cell_type": "markdown",
   "metadata": {
    "id": "O-YvltJWk2Gf"
   },
   "source": [
    "### - `count`"
   ]
  },
  {
   "cell_type": "code",
   "execution_count": null,
   "metadata": {
    "id": "N2QDdl82k2Gf"
   },
   "outputs": [],
   "source": [
    "num_lst = [1, 1, 2, 3, 4, 5, 6, 7, 8, 1, 9, 9]\n",
    "num_lst.count(1) #cuenta el numero de unos"
   ]
  },
  {
   "cell_type": "code",
   "execution_count": null,
   "metadata": {
    "id": "UBBT1MKEk2Gf"
   },
   "outputs": [],
   "source": [
    "num_lst.count(0)"
   ]
  },
  {
   "cell_type": "code",
   "execution_count": null,
   "metadata": {
    "id": "6NeY_lGhk2Gf"
   },
   "outputs": [],
   "source": [
    "num_lst.count(9) > 1"
   ]
  },
  {
   "cell_type": "code",
   "execution_count": null,
   "metadata": {
    "id": "cNpcDnr3k2Gf"
   },
   "outputs": [],
   "source": [
    "4 in num_lst ## Otra forma de ver la pertenencia. "
   ]
  },
  {
   "cell_type": "code",
   "execution_count": null,
   "metadata": {
    "colab": {
     "base_uri": "https://localhost:8080/"
    },
    "id": "Hybw6wNok2Gf",
    "outputId": "417185b4-a2dd-4a26-ffcb-ac454719557d"
   },
   "outputs": [
    {
     "data": {
      "text/plain": [
       "False"
      ]
     },
     "execution_count": 63,
     "metadata": {},
     "output_type": "execute_result"
    }
   ],
   "source": [
    "13 in num_lst"
   ]
  },
  {
   "cell_type": "markdown",
   "metadata": {
    "id": "GzwU6ESEk2Gf"
   },
   "source": [
    "### - `reverse`"
   ]
  },
  {
   "cell_type": "code",
   "execution_count": null,
   "metadata": {
    "id": "PfsBDM4Ek2Gf"
   },
   "outputs": [],
   "source": [
    "num_lst.reverse()\n",
    "num_lst #la lista al revés"
   ]
  },
  {
   "cell_type": "markdown",
   "metadata": {
    "id": "3Yd3-_X9k2Gf"
   },
   "source": [
    "###  - `sort`"
   ]
  },
  {
   "cell_type": "code",
   "execution_count": null,
   "metadata": {
    "id": "YnUcw-RCk2Gg"
   },
   "outputs": [],
   "source": [
    "num_lst.sort()\n",
    "num_lst #lista ordenada de menor a mayor"
   ]
  },
  {
   "cell_type": "markdown",
   "metadata": {
    "id": "sKlSu0Cuk2Gg"
   },
   "source": [
    "### Métodos para listas numéricas"
   ]
  },
  {
   "cell_type": "code",
   "execution_count": null,
   "metadata": {
    "id": "yv0CxnuOk2Gg"
   },
   "outputs": [],
   "source": [
    "sum(num_lst)"
   ]
  },
  {
   "cell_type": "code",
   "execution_count": null,
   "metadata": {
    "id": "_d2K-21Hk2Gg"
   },
   "outputs": [],
   "source": [
    "min(num_lst)"
   ]
  },
  {
   "cell_type": "code",
   "execution_count": null,
   "metadata": {
    "id": "it21EP-ok2Gg"
   },
   "outputs": [],
   "source": [
    "max(num_lst)"
   ]
  },
  {
   "cell_type": "code",
   "execution_count": null,
   "metadata": {
    "id": "q7ZoATSEk2Gg"
   },
   "outputs": [],
   "source": [
    "len(num_lst) #numero de elemntos de la lista"
   ]
  },
  {
   "cell_type": "code",
   "execution_count": null,
   "metadata": {
    "id": "k4NVXwOIk2Gj"
   },
   "outputs": [],
   "source": [
    "sum(num_lst)/len(num_lst)"
   ]
  },
  {
   "cell_type": "code",
   "execution_count": null,
   "metadata": {
    "id": "rzcOXNxrk2Gj"
   },
   "outputs": [],
   "source": [
    "num_lst"
   ]
  },
  {
   "cell_type": "markdown",
   "metadata": {
    "id": "-OH7RaQkk2Gk"
   },
   "source": [
    "###  Listas de listas"
   ]
  },
  {
   "cell_type": "code",
   "execution_count": null,
   "metadata": {
    "id": "kjQq9Ndik2Gk"
   },
   "outputs": [],
   "source": [
    "mat = [[1, 2, 3], [4, 5, 6], [7, 8, 9]]"
   ]
  },
  {
   "cell_type": "code",
   "execution_count": null,
   "metadata": {
    "id": "ExQc_7knk2Gk"
   },
   "outputs": [],
   "source": [
    "len(mat)"
   ]
  },
  {
   "cell_type": "code",
   "execution_count": null,
   "metadata": {
    "id": "WWnQi4oCk2Gk"
   },
   "outputs": [],
   "source": [
    "mat[0][1] #de la lista 0 el elemento 1"
   ]
  },
  {
   "cell_type": "code",
   "execution_count": null,
   "metadata": {
    "id": "TLRGNdF5k2Gk"
   },
   "outputs": [],
   "source": [
    "mat[2][2]"
   ]
  },
  {
   "cell_type": "code",
   "execution_count": null,
   "metadata": {
    "id": "XkHY1lMOk2Gk"
   },
   "outputs": [],
   "source": [
    "lista_vacia = []\n",
    "lista_llena= [[1,2,3,4,5], [6,7,8,9,10], ['Economia', ['Sociologia',  'Antropologia'], 'Finanzas', 'Ciencia Política']]\n"
   ]
  },
  {
   "cell_type": "code",
   "execution_count": null,
   "metadata": {
    "id": "qbG4VgwWk2Gk"
   },
   "outputs": [],
   "source": [
    "lista_llena[2][1]"
   ]
  }
 ],
 "metadata": {
  "colab": {
   "include_colab_link": true,
   "provenance": []
  },
  "kernelspec": {
   "display_name": "Python 3 (ipykernel)",
   "language": "python",
   "name": "python3"
  },
  "language_info": {
   "codemirror_mode": {
    "name": "ipython",
    "version": 3
   },
   "file_extension": ".py",
   "mimetype": "text/x-python",
   "name": "python",
   "nbconvert_exporter": "python",
   "pygments_lexer": "ipython3",
   "version": "3.9.13"
  }
 },
 "nbformat": 4,
 "nbformat_minor": 4
}
