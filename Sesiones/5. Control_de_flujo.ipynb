{
  "nbformat": 4,
  "nbformat_minor": 0,
  "metadata": {
    "colab": {
      "name": "Control de flujo.ipynb",
      "provenance": [],
      "collapsed_sections": [],
      "include_colab_link": true
    },
    "kernelspec": {
      "name": "python3",
      "display_name": "Python 3"
    },
    "language_info": {
      "name": "python"
    }
  },
  "cells": [
    {
      "cell_type": "markdown",
      "metadata": {
        "id": "view-in-github",
        "colab_type": "text"
      },
      "source": [
        "<a href=\"https://colab.research.google.com/github/darlaabril/Taller-Python/blob/main/Control_de_flujo.ipynb\" target=\"_parent\"><img src=\"https://colab.research.google.com/assets/colab-badge.svg\" alt=\"Open In Colab\"/></a>"
      ]
    },
    {
      "cell_type": "markdown",
      "source": [
        "#Control de Flujo\n",
        "Hasta ahora hemos elaborado scripts que se ejecutan de arriba hacia abajo y de izquierda a derecha; cuando se ejecuta el la última línea, el programa termina. Sin embargo, existen herramientas en Python que permiten alterar el flujo normal de un programa. El uso de estas herramientas es denominado control de flujo.\n",
        "\n",
        "Las sentencias de Python para control de flujo son de dos tipos: Sentencias condicionales y sentencias de bucle. A continuación se explora cada una de ellas.\n",
        "\n",
        "#Sentencias condicionales: if, else y elif\n",
        "Este tipo de sentencias nos permiten alterar el flujo de un programa mediante el cumplimiento de una condición. \n",
        "\n",
        "##if\n",
        "Este comando permite evaluar si se debe ejecutar una sola acción."
      ],
      "metadata": {
        "id": "npQ4TSh7Nedi"
      }
    },
    {
      "cell_type": "code",
      "execution_count": null,
      "metadata": {
        "id": "StRUtLiuNZZQ",
        "colab": {
          "base_uri": "https://localhost:8080/"
        },
        "outputId": "33bd973f-b07d-410a-d067-947be19dcbe1"
      },
      "outputs": [
        {
          "output_type": "stream",
          "name": "stdout",
          "text": [
            "Positivo\n"
          ]
        }
      ],
      "source": [
        "x = 5 \n",
        "if x > 0:\n",
        "  print(\"Positivo\")"
      ]
    },
    {
      "cell_type": "markdown",
      "source": [
        "El ejemplo 1 muestra el funcionamiento del comando if, este verifica si se cumple la condición que le sigue. La condición debe ser de tipo boleano y debe seguirse de dos puntos. En caso sea verdadera, Python ejecutará el bloque indentado que sigue. Si la condición no se cumple, el programa no ejecutará nada."
      ],
      "metadata": {
        "id": "2ARW7g-EXwBA"
      }
    },
    {
      "cell_type": "code",
      "source": [
        "x = -1\n",
        "if x > 0:\n",
        "  print(\"Positivo\")"
      ],
      "metadata": {
        "id": "aUCCf25zbZu6"
      },
      "execution_count": null,
      "outputs": []
    },
    {
      "cell_type": "markdown",
      "source": [
        "##else\n",
        "Python nos permite también ejecutar una sentencia en caso la condición no se verifique, es decir, sea falsa. Para esto, usamos el comando else."
      ],
      "metadata": {
        "id": "yIA23yPRbemT"
      }
    },
    {
      "cell_type": "code",
      "source": [
        "x = -1\n",
        "if x > 0:\n",
        "  print(\"Positivo\")\n",
        "else:\n",
        "  print(\"Negativo\")"
      ],
      "metadata": {
        "id": "mteXvWdpb8F9"
      },
      "execution_count": null,
      "outputs": []
    },
    {
      "cell_type": "markdown",
      "source": [
        "El comando else va seguido de dos puntos. En la línea siguiente se coloca la sentencia que debe ser ejecutada en caso no se cumpla la condición, la cual también debe estar indentada.\n",
        "\n"
      ],
      "metadata": {
        "id": "fjPkkiK9cIGo"
      }
    },
    {
      "cell_type": "markdown",
      "source": [
        "####Crear un programa"
      ],
      "metadata": {
        "id": "zzrsMgb08E_z"
      }
    },
    {
      "cell_type": "code",
      "source": [
        "x = int(input(\"número: \"))\n",
        "if x > 0: \n",
        "    print (\"Positivo\")\n",
        "else:\n",
        "    print(\"Negativo\")"
      ],
      "metadata": {
        "id": "VHVPi6HR6X_V"
      },
      "execution_count": null,
      "outputs": []
    },
    {
      "cell_type": "markdown",
      "source": [
        "##elif\n",
        "El comando elif permite añadir una segunda condición en caso no se cumpla el if antes de ejecutar el comando else."
      ],
      "metadata": {
        "id": "SH4_tZAakG2-"
      }
    },
    {
      "cell_type": "code",
      "source": [
        "x = -1\n",
        "if x > 0:\n",
        "  print(\"Positivo\")\n",
        "elif x > -10:\n",
        "  print(\"No es tan negativo\")\n",
        "else:\n",
        "  print(\"Negativo\")"
      ],
      "metadata": {
        "id": "i6FKMyA0kZpr"
      },
      "execution_count": null,
      "outputs": []
    },
    {
      "cell_type": "markdown",
      "source": [
        "#Sentencias en bucle\n",
        "Estas sentencias nos permiten repetir una acción muchas veces.\n",
        "##for\n",
        "Este comando nos permite repertir una acción en una serie de valores."
      ],
      "metadata": {
        "id": "SXWAe-q3lOz7"
      }
    },
    {
      "cell_type": "code",
      "source": [
        "estaturas = [165, 172, 171, 182, 168, 165]\n",
        "\n",
        "for estatura in estaturas:\n",
        "    estatura_metros = estatura/100\n",
        "    print(\"Su estatura es \" + str(estatura_metros) + \" metros\")"
      ],
      "metadata": {
        "id": "CEn56dJZlkAq"
      },
      "execution_count": null,
      "outputs": []
    },
    {
      "cell_type": "markdown",
      "source": [
        "###Ejemplos interesantes!\n",
        "\n",
        "Clasificando por necesidades básicas:\n",
        "\n",
        "Retando a Stata: \n"
      ],
      "metadata": {
        "id": "ygPtpPozXHLI"
      }
    },
    {
      "cell_type": "code",
      "source": [
        "personas = 3\n",
        "habitaciones = 1\n",
        "agua_potable = 1\n",
        "desague = 1\n",
        "niños_s_escuela = 1\n",
        "ingreso = 1800\n",
        "\n",
        "no_hacinamiento = 0\n",
        "agua_potable = 0\n",
        "desague = 0\n",
        "educacion = 0\n",
        "b_monetario = 0\n",
        "\n",
        "if personas/habitaciones < 2.4:\n",
        "    no_hacinamiento = True\n",
        "if niños_s_escuela > 0:\n",
        "    educacion = True\n",
        "if ingreso/personas > 360:\n",
        "    b_monetario = True\n",
        "es_pobre = not(no_hacinamiento and agua_potable and educacion and desague and b_monetario)\n",
        "\n",
        "print(es_pobre)"
      ],
      "metadata": {
        "id": "5iyvCHqQvw3f"
      },
      "execution_count": null,
      "outputs": []
    },
    {
      "cell_type": "code",
      "source": [
        "l_gasto = {6500, 4598, 3450, 1280, 7590, 2563,4567}\n",
        "gasto_m = []\n",
        "for gasto in l_gasto:\n",
        "  gasto_mens = gasto/12\n",
        "  gasto_m.append(gasto_mens)\n",
        "print(gasto_m)\n"
      ],
      "metadata": {
        "id": "3XsK9pBpsQxS"
      },
      "execution_count": null,
      "outputs": []
    },
    {
      "cell_type": "markdown",
      "source": [
        "##while\n",
        "Este comando permite repetir una acción una y otra vez siempre y cuando se cumpla una condición.\n"
      ],
      "metadata": {
        "id": "E2zZtAcbn04C"
      }
    },
    {
      "cell_type": "code",
      "source": [
        "suma = 0\n",
        "i = 0\n",
        "\n",
        "while i < 10:\n",
        "  suma = suma + i ### otra forma\n",
        "  i = i + 1\n",
        "print(suma)\n"
      ],
      "metadata": {
        "colab": {
          "base_uri": "https://localhost:8080/"
        },
        "id": "Lgkppy81LncH",
        "outputId": "f0466c06-4cb1-4a8d-9aa3-a531d62401d7"
      },
      "execution_count": 17,
      "outputs": [
        {
          "output_type": "stream",
          "name": "stdout",
          "text": [
            "Suma final: 45\n"
          ]
        }
      ]
    },
    {
      "cell_type": "code",
      "source": [
        ""
      ],
      "metadata": {
        "id": "kL36VXOlXF-6"
      },
      "execution_count": null,
      "outputs": []
    },
    {
      "cell_type": "markdown",
      "source": [
        "##Break y continue\n",
        "Si queremos detener un bucle una vez se haya cumplido una condición podemos utilizar el comando break"
      ],
      "metadata": {
        "id": "Fij9OtYlM_Eh"
      }
    },
    {
      "cell_type": "code",
      "source": [
        "suma = 0\n",
        "i = 0\n",
        "\n",
        "while i < 10:\n",
        "  suma = suma + i\n",
        "  i = i + 1\n",
        "  if suma > 20:\n",
        "        break\n",
        "print(suma)"
      ],
      "metadata": {
        "colab": {
          "base_uri": "https://localhost:8080/"
        },
        "id": "kesw6DqpNeTT",
        "outputId": "705e4303-5d2f-45e1-9314-62dcf4c8734c"
      },
      "execution_count": null,
      "outputs": [
        {
          "output_type": "stream",
          "name": "stdout",
          "text": [
            "21\n"
          ]
        }
      ]
    },
    {
      "cell_type": "markdown",
      "source": [
        "Por otro lado, si queremos que se ignore alguna instrucción dada una condición, utilizaremos el comando continue."
      ],
      "metadata": {
        "id": "NIBWP3daPkpz"
      }
    },
    {
      "cell_type": "code",
      "source": [
        "números = [1, -2, 3, -4, 5]\n",
        "for número in números:\n",
        "    if  número > 0:\n",
        "        continue\n",
        "    print(número, \"es negativo\")"
      ],
      "metadata": {
        "colab": {
          "base_uri": "https://localhost:8080/"
        },
        "id": "M5FZXGb2Qgby",
        "outputId": "10264894-3620-4cc1-e81c-7b23d0eb7885"
      },
      "execution_count": 18,
      "outputs": [
        {
          "output_type": "stream",
          "name": "stdout",
          "text": [
            "-2 es negativo\n",
            "-4 es negativo\n"
          ]
        }
      ]
    }
  ]
}