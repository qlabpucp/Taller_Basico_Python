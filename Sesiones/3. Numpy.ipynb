{
 "cells": [
  {
   "cell_type": "markdown",
   "metadata": {
    "colab_type": "text",
    "id": "view-in-github"
   },
   "source": [
    "<a href=\"https://colab.research.google.com/github/darlaabril/Taller-Python/blob/main/Numpy.ipynb\" target=\"_parent\"><img src=\"https://colab.research.google.com/assets/colab-badge.svg\" alt=\"Open In Colab\"/></a>"
   ]
  },
  {
   "cell_type": "markdown",
   "metadata": {
    "id": "HuTK1ONzhUA7"
   },
   "source": [
    "# Numpy\n",
    "\n",
    "\n"
   ]
  },
  {
   "cell_type": "markdown",
   "metadata": {
    "id": "y4v-Zdd9NCL6"
   },
   "source": [
    "Numpy y sus aplicaciones"
   ]
  },
  {
   "cell_type": "code",
   "execution_count": null,
   "metadata": {
    "id": "zwR4HxwwMo94"
   },
   "outputs": [],
   "source": [
    "#Una diferencia importante entre NumPy y List es que NumPy es más rapida de leer\n",
    "#Algunas aplicaciones de NumPy son las Funciones matemáticas y manejo de arrays"
   ]
  },
  {
   "cell_type": "markdown",
   "metadata": {
    "id": "-f8lMYQGMmcs"
   },
   "source": [
    "Instalar Numpy\n"
   ]
  },
  {
   "cell_type": "code",
   "execution_count": 2,
   "metadata": {
    "id": "6o9w_Bx6hzjo"
   },
   "outputs": [],
   "source": [
    "#No se olviden instalar Numpy antes de usarlo\n",
    "#Instalación:\n",
    "import numpy as np\n",
    "import sys\n"
   ]
  },
  {
   "cell_type": "markdown",
   "metadata": {
    "id": "meWA2m2GiRc0"
   },
   "source": [
    "Creación de arrays, forma, tamaño y tipo de data"
   ]
  },
  {
   "cell_type": "code",
   "execution_count": null,
   "metadata": {
    "colab": {
     "base_uri": "https://localhost:8080/"
    },
    "id": "ncuhna8ciUje",
    "outputId": "034238e7-4460-431f-ae25-0fe0807feaf2"
   },
   "outputs": [
    {
     "name": "stdout",
     "output_type": "stream",
     "text": [
      "[2 4 8]\n"
     ]
    }
   ],
   "source": [
    "#Creación de array\n",
    "a=np.array([2,4,8], dtype=\"int\")\n",
    "print(a)"
   ]
  },
  {
   "cell_type": "code",
   "execution_count": null,
   "metadata": {
    "colab": {
     "base_uri": "https://localhost:8080/"
    },
    "id": "2OPIOm2szi8b",
    "outputId": "d80bcb00-40f7-413d-b159-acade114ca6c"
   },
   "outputs": [
    {
     "name": "stdout",
     "output_type": "stream",
     "text": [
      "[[3 6 9]\n",
      " [1 3 5]]\n"
     ]
    }
   ],
   "source": [
    "b=np.array([[3,6,9],[1,3,5]])\n",
    "print(b)"
   ]
  },
  {
   "cell_type": "code",
   "execution_count": null,
   "metadata": {
    "colab": {
     "base_uri": "https://localhost:8080/"
    },
    "id": "L-dMmCMCz4i0",
    "outputId": "45500ab5-e260-4c5f-a423-00b4889c54e6"
   },
   "outputs": [
    {
     "data": {
      "text/plain": [
       "2"
      ]
     },
     "execution_count": 4,
     "metadata": {},
     "output_type": "execute_result"
    }
   ],
   "source": [
    "#Ver la dimensión\n",
    "b.ndim"
   ]
  },
  {
   "cell_type": "code",
   "execution_count": null,
   "metadata": {
    "colab": {
     "base_uri": "https://localhost:8080/"
    },
    "id": "Xz7aKJEU0O8T",
    "outputId": "a6bef65f-6e31-4419-8f4b-e8294b2e1497"
   },
   "outputs": [
    {
     "data": {
      "text/plain": [
       "(2, 3)"
      ]
     },
     "execution_count": 5,
     "metadata": {},
     "output_type": "execute_result"
    }
   ],
   "source": [
    "#Ver la forma\n",
    "b.shape"
   ]
  },
  {
   "cell_type": "code",
   "execution_count": null,
   "metadata": {
    "colab": {
     "base_uri": "https://localhost:8080/"
    },
    "id": "a4f2Dq1E6OA-",
    "outputId": "c91bdabb-f5da-4fe1-87e3-74d8dcfee08d"
   },
   "outputs": [
    {
     "data": {
      "text/plain": [
       "dtype('int64')"
      ]
     },
     "execution_count": 7,
     "metadata": {},
     "output_type": "execute_result"
    }
   ],
   "source": [
    "#Ver el tipo de data, int16 para valores no tan grandes\n",
    "#Es eficiente especificarlo\n",
    "a.dtype"
   ]
  },
  {
   "cell_type": "code",
   "execution_count": null,
   "metadata": {
    "colab": {
     "base_uri": "https://localhost:8080/"
    },
    "id": "_rVlVl2c6cJ2",
    "outputId": "3ddad342-c930-41d8-e8b0-518833b23b61"
   },
   "outputs": [
    {
     "data": {
      "text/plain": [
       "8"
      ]
     },
     "execution_count": 8,
     "metadata": {},
     "output_type": "execute_result"
    }
   ],
   "source": [
    "#Ver el tamaño (bytes)\n",
    "a.itemsize"
   ]
  },
  {
   "cell_type": "markdown",
   "metadata": {
    "id": "UbDwrJoE7ywx"
   },
   "source": [
    "Acceder/cambiar elementos específicos, filas, columnas, etc"
   ]
  },
  {
   "cell_type": "code",
   "execution_count": 5,
   "metadata": {
    "colab": {
     "base_uri": "https://localhost:8080/"
    },
    "id": "GHiIVgfP766I",
    "outputId": "67835ce0-9db8-4c97-990e-98e8a63b82d8"
   },
   "outputs": [
    {
     "name": "stdout",
     "output_type": "stream",
     "text": [
      "[[ 1  3  5  7  9 11 13]\n",
      " [ 2  4  6  8 10 12 14]]\n"
     ]
    }
   ],
   "source": [
    "a=np.array ([ [1,3,5,7,9,11,13 ],[ 2,4,6,8,10,12,14]])\n",
    "print(a)"
   ]
  },
  {
   "cell_type": "code",
   "execution_count": null,
   "metadata": {
    "colab": {
     "base_uri": "https://localhost:8080/"
    },
    "id": "90bfwuxn8aC3",
    "outputId": "90485c59-478c-4f7a-9a1b-7857f7fddae4"
   },
   "outputs": [
    {
     "data": {
      "text/plain": [
       "12"
      ]
     },
     "execution_count": 10,
     "metadata": {},
     "output_type": "execute_result"
    }
   ],
   "source": [
    " #Elemento especifico [fila, columna]\n",
    " a[1,5]"
   ]
  },
  {
   "cell_type": "code",
   "execution_count": null,
   "metadata": {
    "colab": {
     "base_uri": "https://localhost:8080/"
    },
    "id": "r9537Xlr9MGT",
    "outputId": "877dc65d-71fa-4bd1-b402-cdd114a989c1"
   },
   "outputs": [
    {
     "data": {
      "text/plain": [
       "array([ 1,  3,  5,  7,  9, 11, 13])"
      ]
     },
     "execution_count": 11,
     "metadata": {},
     "output_type": "execute_result"
    }
   ],
   "source": [
    "#Fila\n",
    "a[ 0,:]"
   ]
  },
  {
   "cell_type": "code",
   "execution_count": null,
   "metadata": {
    "colab": {
     "base_uri": "https://localhost:8080/"
    },
    "id": "lMlvhB3C9SXQ",
    "outputId": "556d15db-c49d-4f14-c4d8-3038326abd28"
   },
   "outputs": [
    {
     "data": {
      "text/plain": [
       "array([5, 6])"
      ]
     },
     "execution_count": 12,
     "metadata": {},
     "output_type": "execute_result"
    }
   ],
   "source": [
    "#Columna\n",
    "a[:,2 ]"
   ]
  },
  {
   "cell_type": "code",
   "execution_count": null,
   "metadata": {
    "colab": {
     "base_uri": "https://localhost:8080/"
    },
    "id": "QyWgLrCO9qzb",
    "outputId": "9e00ea0c-169b-4d5b-addd-0f65ef0d2de1"
   },
   "outputs": [
    {
     "name": "stdout",
     "output_type": "stream",
     "text": [
      "[[ 1  3  5  7  9 11 13]\n",
      " [ 2  4  6  8 10 40 14]]\n"
     ]
    }
   ],
   "source": [
    "#Cambiar data\n",
    "a[ 1,5]=40\n",
    "print(a)"
   ]
  },
  {
   "cell_type": "code",
   "execution_count": null,
   "metadata": {
    "colab": {
     "base_uri": "https://localhost:8080/"
    },
    "id": "1f1PU6RgAY2B",
    "outputId": "da443862-6915-46f9-e0de-fc9c4f57fb7a"
   },
   "outputs": [
    {
     "name": "stdout",
     "output_type": "stream",
     "text": [
      "[[[ 2  4]\n",
      "  [ 6  8]]\n",
      "\n",
      " [[10 12]\n",
      "  [14 16]]]\n"
     ]
    }
   ],
   "source": [
    "b=np.array([[[ 2,4], [ 6,8]], [ [10,12 ],[ 14,16]]])\n",
    "print(b)"
   ]
  },
  {
   "cell_type": "code",
   "execution_count": null,
   "metadata": {
    "colab": {
     "base_uri": "https://localhost:8080/"
    },
    "id": "u7WCh0l2sCRA",
    "outputId": "1f29e914-c445-44f6-99af-756c23a1e0a2"
   },
   "outputs": [
    {
     "data": {
      "text/plain": [
       "8"
      ]
     },
     "execution_count": 19,
     "metadata": {},
     "output_type": "execute_result"
    }
   ],
   "source": [
    "#[matriz, fila, columna]\n",
    "b[0,1,1]"
   ]
  },
  {
   "cell_type": "code",
   "execution_count": null,
   "metadata": {
    "colab": {
     "base_uri": "https://localhost:8080/"
    },
    "id": "esn53g3IA8m1",
    "outputId": "63de8489-3c23-4edd-ba3e-dcbe5885bb7b"
   },
   "outputs": [
    {
     "data": {
      "text/plain": [
       "array([[ 6,  8],\n",
       "       [14, 16]])"
      ]
     },
     "execution_count": 15,
     "metadata": {},
     "output_type": "execute_result"
    }
   ],
   "source": [
    "#Obtener un elemento específico fuera del array\n",
    "#en el siguiente ej no especificamos cual de las 2 matrices por lo que obtendremos 2 filas\n",
    "b[:,1,:]"
   ]
  },
  {
   "cell_type": "code",
   "execution_count": null,
   "metadata": {
    "colab": {
     "base_uri": "https://localhost:8080/"
    },
    "id": "ATvP3S5FBhtt",
    "outputId": "b7892044-e720-4c64-afb8-bd34a1c03449"
   },
   "outputs": [
    {
     "name": "stdout",
     "output_type": "stream",
     "text": [
      "[[[ 2  4]\n",
      "  [ 1  1]]\n",
      "\n",
      " [[10 12]\n",
      "  [ 2  2]]]\n"
     ]
    }
   ],
   "source": [
    "#reemplazo \n",
    "b[:,1,:]= [[1,1],[2,2]]\n",
    "print(b)"
   ]
  },
  {
   "cell_type": "markdown",
   "metadata": {
    "id": "XWvMHcVDNTSc"
   },
   "source": [
    "Inicialización"
   ]
  },
  {
   "cell_type": "code",
   "execution_count": null,
   "metadata": {
    "colab": {
     "base_uri": "https://localhost:8080/"
    },
    "id": "Rxt3snvsNtRO",
    "outputId": "f5d91121-250a-48f5-a9dc-25fb6bd7129b"
   },
   "outputs": [
    {
     "data": {
      "text/plain": [
       "array([[0., 0., 0., 0.],\n",
       "       [0., 0., 0., 0.],\n",
       "       [0., 0., 0., 0.]])"
      ]
     },
     "execution_count": 21,
     "metadata": {},
     "output_type": "execute_result"
    }
   ],
   "source": [
    "#Matriz de 0's\n",
    "np.zeros((3,4))"
   ]
  },
  {
   "cell_type": "code",
   "execution_count": null,
   "metadata": {
    "colab": {
     "base_uri": "https://localhost:8080/"
    },
    "id": "vL9kIh6zOGdA",
    "outputId": "1f7f141a-8b0e-4fca-f5cb-5418ee2354cf"
   },
   "outputs": [
    {
     "data": {
      "text/plain": [
       "array([[[1., 1.],\n",
       "        [1., 1.]],\n",
       "\n",
       "       [[1., 1.],\n",
       "        [1., 1.]],\n",
       "\n",
       "       [[1., 1.],\n",
       "        [1., 1.]],\n",
       "\n",
       "       [[1., 1.],\n",
       "        [1., 1.]]])"
      ]
     },
     "execution_count": 22,
     "metadata": {},
     "output_type": "execute_result"
    }
   ],
   "source": [
    "#Matriz de 1's\n",
    "np.ones((4,2,2))"
   ]
  },
  {
   "cell_type": "code",
   "execution_count": null,
   "metadata": {
    "colab": {
     "base_uri": "https://localhost:8080/"
    },
    "id": "YYSqxzevOU2U",
    "outputId": "1966696c-2666-4522-959e-662c8b7fc4b4"
   },
   "outputs": [
    {
     "data": {
      "text/plain": [
       "array([[13, 13, 13],\n",
       "       [13, 13, 13]])"
      ]
     },
     "execution_count": 25,
     "metadata": {},
     "output_type": "execute_result"
    }
   ],
   "source": [
    "#Matriz de n's\n",
    "np.full((2,3),13)"
   ]
  },
  {
   "cell_type": "code",
   "execution_count": null,
   "metadata": {
    "colab": {
     "base_uri": "https://localhost:8080/"
    },
    "id": "XXvfIBA0OvI2",
    "outputId": "2dc60cab-89f4-4c67-c6cd-89cb068859f5"
   },
   "outputs": [
    {
     "data": {
      "text/plain": [
       "array([[2, 2, 2, 2, 2, 2, 2],\n",
       "       [2, 2, 2, 2, 2, 2, 2]])"
      ]
     },
     "execution_count": 26,
     "metadata": {},
     "output_type": "execute_result"
    }
   ],
   "source": [
    "#Matriz con x forma\n",
    "np.full_like(a,2)"
   ]
  },
  {
   "cell_type": "code",
   "execution_count": 3,
   "metadata": {
    "colab": {
     "base_uri": "https://localhost:8080/"
    },
    "id": "OVyz6mEBO66a",
    "outputId": "acd379f4-7927-4c1d-dceb-9474bf7f344d"
   },
   "outputs": [
    {
     "data": {
      "text/plain": [
       "array([[0.69478552, 0.43656425, 0.27858578, 0.48928041],\n",
       "       [0.45815969, 0.85387559, 0.97358014, 0.9661191 ],\n",
       "       [0.04789364, 0.65126972, 0.63635707, 0.74659623]])"
      ]
     },
     "execution_count": 3,
     "metadata": {},
     "output_type": "execute_result"
    }
   ],
   "source": [
    "#Numeros decimales aleatorios\n",
    "np.random.rand(3,4)"
   ]
  },
  {
   "cell_type": "code",
   "execution_count": 6,
   "metadata": {
    "colab": {
     "base_uri": "https://localhost:8080/"
    },
    "id": "tZF4JanFnBV_",
    "outputId": "32d5af16-5ae4-4ca0-ab76-4d4e7777709e"
   },
   "outputs": [
    {
     "data": {
      "text/plain": [
       "array([[0.35160501, 0.05831643, 0.25373617, 0.17967399, 0.55072633,\n",
       "        0.49271272, 0.41980826],\n",
       "       [0.40124797, 0.84926965, 0.28229872, 0.23047384, 0.84382844,\n",
       "        0.45643541, 0.96481504]])"
      ]
     },
     "execution_count": 6,
     "metadata": {},
     "output_type": "execute_result"
    }
   ],
   "source": [
    "#Numeros decimales aleatorios como a\n",
    "np.random.random_sample(a.shape)"
   ]
  },
  {
   "cell_type": "code",
   "execution_count": null,
   "metadata": {
    "colab": {
     "base_uri": "https://localhost:8080/"
    },
    "id": "XQ6r3J4gPntM",
    "outputId": "3a7da8a5-c506-4b40-e123-b94ee033a6c1"
   },
   "outputs": [
    {
     "data": {
      "text/plain": [
       "array([[1, 8, 4],\n",
       "       [8, 1, 1],\n",
       "       [1, 7, 3]])"
      ]
     },
     "execution_count": 29,
     "metadata": {},
     "output_type": "execute_result"
    }
   ],
   "source": [
    "#Numeros enteros aleatorios (Startvalue, shape)\n",
    "np.random.randint(1,9,size=(3,3))"
   ]
  },
  {
   "cell_type": "code",
   "execution_count": null,
   "metadata": {
    "colab": {
     "base_uri": "https://localhost:8080/"
    },
    "id": "d-UiN_SfQPJp",
    "outputId": "f1ed2073-7be8-45f6-95b9-937df36c6c66"
   },
   "outputs": [
    {
     "data": {
      "text/plain": [
       "array([[1., 0., 0., 0.],\n",
       "       [0., 1., 0., 0.],\n",
       "       [0., 0., 1., 0.],\n",
       "       [0., 0., 0., 1.]])"
      ]
     },
     "execution_count": 30,
     "metadata": {},
     "output_type": "execute_result"
    }
   ],
   "source": [
    "#Matriz de identidad\n",
    "np.identity(4)"
   ]
  },
  {
   "cell_type": "code",
   "execution_count": null,
   "metadata": {
    "colab": {
     "base_uri": "https://localhost:8080/"
    },
    "id": "KqQNTMgnQlUI",
    "outputId": "c37f56c9-cc6e-46ea-8b38-a5b204d7b2bf"
   },
   "outputs": [
    {
     "name": "stdout",
     "output_type": "stream",
     "text": [
      "[[2 4 6]\n",
      " [2 4 6]\n",
      " [2 4 6]]\n"
     ]
    }
   ],
   "source": [
    "#Repetir un array\n",
    "arr=np.array([[2,4,6]])\n",
    "rl=np.repeat(arr,3,axis=0)\n",
    "print(rl)"
   ]
  },
  {
   "cell_type": "code",
   "execution_count": null,
   "metadata": {
    "colab": {
     "base_uri": "https://localhost:8080/"
    },
    "id": "v30I-hjyR223",
    "outputId": "2e415ae1-5673-42cf-d4cf-c6506c06c22b"
   },
   "outputs": [
    {
     "name": "stdout",
     "output_type": "stream",
     "text": [
      "[40  4  6]\n"
     ]
    }
   ],
   "source": [
    "#Modificar array\n",
    "x=np.array([2, 4, 6])\n",
    "y=x\n",
    "y [0]=40\n",
    "print(x)"
   ]
  },
  {
   "cell_type": "markdown",
   "metadata": {
    "id": "f9ENpwHTNWXU"
   },
   "source": [
    "Matemática básica"
   ]
  },
  {
   "cell_type": "code",
   "execution_count": null,
   "metadata": {
    "colab": {
     "base_uri": "https://localhost:8080/"
    },
    "id": "-MOu9Y6ZSO67",
    "outputId": "9f5acad6-3dca-4d6b-ba7e-429e809eaea3"
   },
   "outputs": [
    {
     "name": "stdout",
     "output_type": "stream",
     "text": [
      "[40  4  6]\n"
     ]
    }
   ],
   "source": [
    "a=np.array([40, 4,  6])\n",
    "print(a)"
   ]
  },
  {
   "cell_type": "code",
   "execution_count": null,
   "metadata": {
    "colab": {
     "base_uri": "https://localhost:8080/"
    },
    "id": "LhyJodftSePV",
    "outputId": "3b37e058-53d0-4740-d109-6cd7045a43a1"
   },
   "outputs": [
    {
     "data": {
      "text/plain": [
       "array([42,  6,  8])"
      ]
     },
     "execution_count": 37,
     "metadata": {},
     "output_type": "execute_result"
    }
   ],
   "source": [
    "a+2"
   ]
  },
  {
   "cell_type": "code",
   "execution_count": null,
   "metadata": {
    "colab": {
     "base_uri": "https://localhost:8080/"
    },
    "id": "U_fm9ZwGSnRV",
    "outputId": "2f9ac44d-5c18-46c2-8163-ec059fbf213b"
   },
   "outputs": [
    {
     "data": {
      "text/plain": [
       "array([38,  2,  4])"
      ]
     },
     "execution_count": 38,
     "metadata": {},
     "output_type": "execute_result"
    }
   ],
   "source": [
    "a-2"
   ]
  },
  {
   "cell_type": "code",
   "execution_count": null,
   "metadata": {
    "colab": {
     "base_uri": "https://localhost:8080/"
    },
    "id": "6YuqvJ8ySo1H",
    "outputId": "b35707b3-9064-4525-e905-4ebed949c0c2"
   },
   "outputs": [
    {
     "data": {
      "text/plain": [
       "array([80,  8, 12])"
      ]
     },
     "execution_count": 39,
     "metadata": {},
     "output_type": "execute_result"
    }
   ],
   "source": [
    "a*2"
   ]
  },
  {
   "cell_type": "code",
   "execution_count": null,
   "metadata": {
    "colab": {
     "base_uri": "https://localhost:8080/"
    },
    "id": "oMiVg4CPSpv1",
    "outputId": "0bb0dce4-d89a-4049-edc5-8d1869e1ae9f"
   },
   "outputs": [
    {
     "data": {
      "text/plain": [
       "array([20.,  2.,  3.])"
      ]
     },
     "execution_count": 40,
     "metadata": {},
     "output_type": "execute_result"
    }
   ],
   "source": [
    "a/2"
   ]
  },
  {
   "cell_type": "code",
   "execution_count": null,
   "metadata": {
    "colab": {
     "base_uri": "https://localhost:8080/"
    },
    "id": "4O_u8EQASy7g",
    "outputId": "b3881107-c2f5-49db-d667-83f6361da51f"
   },
   "outputs": [
    {
     "data": {
      "text/plain": [
       "array([50,  6,  9])"
      ]
     },
     "execution_count": 41,
     "metadata": {},
     "output_type": "execute_result"
    }
   ],
   "source": [
    "b=np.array([10,  2,  3])\n",
    "a+b"
   ]
  },
  {
   "cell_type": "markdown",
   "metadata": {
    "id": "ku2EXpZXNi2B"
   },
   "source": [
    "Reorganizar matrices"
   ]
  },
  {
   "cell_type": "code",
   "execution_count": null,
   "metadata": {
    "colab": {
     "base_uri": "https://localhost:8080/"
    },
    "id": "Iyyn5YvWT0wY",
    "outputId": "3fe43ded-e316-424b-fa65-55b7acd5fae0"
   },
   "outputs": [
    {
     "data": {
      "text/plain": [
       "array([[1, 2, 3],\n",
       "       [4, 5, 6]])"
      ]
     },
     "execution_count": 42,
     "metadata": {},
     "output_type": "execute_result"
    }
   ],
   "source": [
    "#Apilar vectores: forma vertical\n",
    "v1=np.array([1,  2,  3])\n",
    "v2=np.array([4,5,6])\n",
    "np.vstack([v1,v2])"
   ]
  },
  {
   "cell_type": "code",
   "execution_count": null,
   "metadata": {
    "colab": {
     "base_uri": "https://localhost:8080/"
    },
    "id": "_hnAZ_V5ULlY",
    "outputId": "1ad761b3-494b-4c8e-aefa-6ff88f95e05c"
   },
   "outputs": [
    {
     "data": {
      "text/plain": [
       "array([1, 2, 3, 4, 5, 6])"
      ]
     },
     "execution_count": 43,
     "metadata": {},
     "output_type": "execute_result"
    }
   ],
   "source": [
    "#Apilar vectores: forma horizontal\n",
    "h1=np.array([1,  2,  3])\n",
    "h2=np.array([4,5,6])\n",
    "np.hstack([h1,h2])"
   ]
  }
 ],
 "metadata": {
  "colab": {
   "include_colab_link": true,
   "provenance": []
  },
  "kernelspec": {
   "display_name": "Python 3 (ipykernel)",
   "language": "python",
   "name": "python3"
  },
  "language_info": {
   "codemirror_mode": {
    "name": "ipython",
    "version": 3
   },
   "file_extension": ".py",
   "mimetype": "text/x-python",
   "name": "python",
   "nbconvert_exporter": "python",
   "pygments_lexer": "ipython3",
   "version": "3.9.13"
  }
 },
 "nbformat": 4,
 "nbformat_minor": 4
}
