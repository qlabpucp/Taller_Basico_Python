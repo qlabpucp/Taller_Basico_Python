{
  "nbformat": 4,
  "nbformat_minor": 0,
  "metadata": {
    "colab": {
      "name": "Tarea 2.ipynb",
      "provenance": [],
      "include_colab_link": true
    },
    "kernelspec": {
      "name": "python3",
      "display_name": "Python 3"
    },
    "language_info": {
      "name": "python"
    }
  },
  "cells": [
    {
      "cell_type": "markdown",
      "metadata": {
        "id": "view-in-github",
        "colab_type": "text"
      },
      "source": [
        "<a href=\"https://colab.research.google.com/github/darlaabril/Taller-Python/blob/main/Tarea_2.ipynb\" target=\"_parent\"><img src=\"https://colab.research.google.com/assets/colab-badge.svg\" alt=\"Open In Colab\"/></a>"
      ]
    },
    {
      "cell_type": "markdown",
      "source": [
        "#Tarea 2\n",
        "\n",
        "\n",
        "\n"
      ],
      "metadata": {
        "id": "w9S3NKCWhbbo"
      }
    },
    {
      "cell_type": "markdown",
      "source": [
        "## Ejercicio 1\n",
        "\n",
        "Harris-Benedict elaboró una fórmula para calcular la cantidad optima de calorias que una persona debe consumir. Esta puede ser simplificada mediante la siguiente regla:\n",
        "* Hombres: multiplicar el peso en kg por 25.\n",
        "* Mujeres: multiplicar el peso en kg por 23.\n",
        "\n",
        "Cree una función que permita calcular las calorías que usted debe consumir. Esta función debe tener como inputs el sexo y el peso de la persona. "
      ],
      "metadata": {
        "id": "XX4gtm1qxMx4"
      }
    },
    {
      "cell_type": "code",
      "execution_count": null,
      "metadata": {
        "id": "jNoTKNYVhZVC"
      },
      "outputs": [],
      "source": [
        ""
      ]
    },
    {
      "cell_type": "markdown",
      "source": [
        "\n",
        "## Ejercicio 2\n",
        "\n",
        "Cree una función sencilla relacionada con su carrera. Esta debe tener dos inputs y un output.\n",
        "\n"
      ],
      "metadata": {
        "id": "rofUFptLqGr9"
      }
    },
    {
      "cell_type": "code",
      "source": [
        ""
      ],
      "metadata": {
        "id": "GVMGKu3kqOL8"
      },
      "execution_count": null,
      "outputs": []
    },
    {
      "cell_type": "markdown",
      "source": [
        "## Ejercicio 3\n",
        "\n",
        "Cree un segundo script en el que importe las dos funciones de los ejercicios 1 y 2. Calcule las calorías que usted debe consumir y ponga a prueba la función que usted creo.\n",
        "\n"
      ],
      "metadata": {
        "id": "zwGFLoIlqOoH"
      }
    },
    {
      "cell_type": "code",
      "source": [
        ""
      ],
      "metadata": {
        "id": "IFRP9Z5bqUXr"
      },
      "execution_count": null,
      "outputs": []
    },
    {
      "cell_type": "markdown",
      "source": [
        "## Ejercicio 4\n",
        "\n",
        "1. Cree un diccionario vacío llamado *mi_lugar_de_nacimiento*.\n",
        "2. Inserte las claves departamento, provincia, distrito, ubigeo, extensión y poblacion con sus respectivos valores.\n",
        "3. Borre la clave ubigeo y añada una nueva clave llamada mi_comida, donde el valor será su comida favorita del lugar donde nació.\n",
        "4. Imprima su diccionario. \n",
        "5. Use get() para requerir la clave mi_lugar, la respuesta debe ser 'me gustan todos los lugares."
      ],
      "metadata": {
        "id": "0QgP4CPSqUte"
      }
    },
    {
      "cell_type": "code",
      "source": [
        ""
      ],
      "metadata": {
        "id": "sAc5ZoiyqYVq"
      },
      "execution_count": null,
      "outputs": []
    },
    {
      "cell_type": "markdown",
      "source": [
        "###Ejercicio 5\n",
        "\n",
        "Escribir un programa que pregunte al usuario su edad y muestre por pantalla si mayor de edad o no. (usar if o else)\n"
      ],
      "metadata": {
        "id": "iPI1qfgyvuAZ"
      }
    },
    {
      "cell_type": "code",
      "source": [
        ""
      ],
      "metadata": {
        "id": "8qVQwrtNv50P"
      },
      "execution_count": null,
      "outputs": []
    },
    {
      "cell_type": "markdown",
      "source": [
        "##Ejercicio 6\n",
        "Escribir un programa que pida al usuario un número entero y muestre por pantalla si es par o impar.\n"
      ],
      "metadata": {
        "id": "649wzZiZv_x3"
      }
    },
    {
      "cell_type": "code",
      "source": [
        ""
      ],
      "metadata": {
        "id": "W_tmz0xDwEpf"
      },
      "execution_count": null,
      "outputs": []
    },
    {
      "cell_type": "markdown",
      "source": [
        ""
      ],
      "metadata": {
        "id": "DQI9awY9AEFA"
      }
    },
    {
      "cell_type": "markdown",
      "source": [
        "##Ejercicio 7\n",
        "\n",
        "Con un ciclo for que haga sus iteraciones en sentido inverso, es decir, disminuyendo el valor del paso, desde el 100 hasta el 0."
      ],
      "metadata": {
        "id": "weHmEDnVB1r5"
      }
    }
  ]
}