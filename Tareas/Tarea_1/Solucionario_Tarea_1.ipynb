{
 "cells": [
  {
   "cell_type": "markdown",
   "metadata": {
    "colab_type": "text",
    "id": "view-in-github"
   },
   "source": [
    "<a href=\"https://colab.research.google.com/github/darlaabril/Taller-Python/blob/main/Solucionario.ipynb\" target=\"_parent\"><img src=\"https://colab.research.google.com/assets/colab-badge.svg\" alt=\"Open In Colab\"/></a>"
   ]
  },
  {
   "cell_type": "markdown",
   "metadata": {
    "id": "76aahSrJweAK"
   },
   "source": [
    "#Solucionario\n",
    "\n"
   ]
  },
  {
   "cell_type": "markdown",
   "metadata": {
    "id": "0G6QwOm5788N"
   },
   "source": [
    "#Tarea 1"
   ]
  },
  {
   "cell_type": "markdown",
   "metadata": {
    "id": "jLxvK7puwilm"
   },
   "source": [
    "##Ejercicio 1 \n",
    "Escribir un programa que almacene sus platos favoritos (por ejemplo tallarines, ceviche, lomo, frijol y cabrito) en una lista y la muestre por pantalla."
   ]
  },
  {
   "cell_type": "code",
   "execution_count": null,
   "metadata": {
    "colab": {
     "base_uri": "https://localhost:8080/"
    },
    "id": "gmbpVE0HwrjW",
    "outputId": "86ba3967-98a1-490a-9168-6a5e1723f956"
   },
   "outputs": [
    {
     "name": "stdout",
     "output_type": "stream",
     "text": [
      "['tallarines', 'lomo', 'frijol', 'cabrito']\n"
     ]
    }
   ],
   "source": [
    "platos = [\"tallarines\", \"lomo\", \"frijol\", \"cabrito\"]\n",
    "print(platos)"
   ]
  },
  {
   "cell_type": "markdown",
   "metadata": {
    "id": "nydh-ayRwtsu"
   },
   "source": [
    "##Ejercicio 2\n",
    "Escribir un programa que almacene las asignaturas de un curso sus platos favoritos (por ejemplo tallarines, ceviche, lomo, frijol y cabrito)  en una lista y la muestre por pantalla el mensaje “ A mi me gusta comer <*plato*> “, donde <*plato*> es cada una de sus platos de comida favoritos"
   ]
  },
  {
   "cell_type": "code",
   "execution_count": null,
   "metadata": {
    "colab": {
     "base_uri": "https://localhost:8080/"
    },
    "id": "ChrtlwdEwxOH",
    "outputId": "af87689c-1aba-493c-f45f-1cd27feccc40"
   },
   "outputs": [
    {
     "name": "stdout",
     "output_type": "stream",
     "text": [
      "A mi me gusta comer tallarines\n",
      "A mi me gusta comer lomo\n",
      "A mi me gusta comer frijol\n",
      "A mi me gusta comer cabrito\n"
     ]
    }
   ],
   "source": [
    "platos = [\"tallarines\", \"lomo\", \"frijol\", \"cabrito\"]\n",
    "for subject in platos:\n",
    "  print(\"A mi me gusta comer \" + subject)"
   ]
  },
  {
   "cell_type": "markdown",
   "metadata": {
    "id": "Ys4ezVTxwxz-"
   },
   "source": [
    "##Ejercicio 3\n",
    "Escribir un programa que almacene las asignaturas de un curso (por ejemplo Matemáticas, Física, Química, Historia y Lengua) en una lista, pregunte al usuario la nota que ha sacado en cada asignatura, y después las muestre por pantalla con el mensaje En <*asignatura*> has sacado <*nota*> donde <*asignatura*> es cada una des las asignaturas de la lista y <*nota*> cada una de las correspondientes notas introducidas por el usuario.\n"
   ]
  },
  {
   "cell_type": "code",
   "execution_count": null,
   "metadata": {
    "colab": {
     "base_uri": "https://localhost:8080/"
    },
    "id": "Uo-VaBh5w1hu",
    "outputId": "86bb4307-6b2d-484a-da78-a617829ff7b2"
   },
   "outputs": [
    {
     "name": "stdout",
     "output_type": "stream",
     "text": [
      "¿Qué nota has sacado en Matemáticas? 12\n",
      "¿Qué nota has sacado en Física? 13\n",
      "¿Qué nota has sacado en Química? 15\n",
      "¿Qué nota has sacado en Historia? 10\n",
      "¿Qué nota has sacado en Lengua? 17\n",
      "En Matemáticas has sacado 12\n",
      "En Física has sacado 13\n",
      "En Química has sacado 15\n",
      "En Historia has sacado 10\n",
      "En Lengua has sacado 17\n"
     ]
    }
   ],
   "source": [
    "cursos = [\"Matemáticas\", \"Física\", \"Química\", \"Historia\", \"Lengua\"]\n",
    "scores = []\n",
    "for asignatura in cursos:\n",
    "    score = input(\"¿Qué nota has sacado en \" + asignatura + \"? \")\n",
    "    scores.append(score)\n",
    "for i in range(len(cursos)):\n",
    "    print(\"En \" + cursos[i] + \" has sacado \" + scores[i])"
   ]
  },
  {
   "cell_type": "markdown",
   "metadata": {
    "id": "-u6SF-7Gw2CG"
   },
   "source": [
    "##Ejercicio 4\n",
    "Escribir un programa que almacene en una lista los números del 1 al 10 y los muestre por pantalla en orden inverso separados por comas.\n"
   ]
  },
  {
   "cell_type": "code",
   "execution_count": null,
   "metadata": {
    "colab": {
     "base_uri": "https://localhost:8080/"
    },
    "id": "JFs8Ead1w_yP",
    "outputId": "6e86d08e-9911-423f-eb19-50519ee07ba8"
   },
   "outputs": [
    {
     "data": {
      "text/plain": [
       "[10, 9, 8, 7, 6, 5, 4, 3, 2, 1]"
      ]
     },
     "execution_count": 19,
     "metadata": {},
     "output_type": "execute_result"
    }
   ],
   "source": [
    "num = [1, 2, 3, 4, 5, 6, 7, 8, 9, 10]\n",
    "num[::-1]"
   ]
  },
  {
   "cell_type": "markdown",
   "metadata": {
    "id": "o_5y8aDN_gS0"
   },
   "source": [
    "otra forma:\n"
   ]
  },
  {
   "cell_type": "code",
   "execution_count": null,
   "metadata": {
    "colab": {
     "base_uri": "https://localhost:8080/"
    },
    "id": "5g5VRsMO_eck",
    "outputId": "13e27798-d7ce-4642-b143-aa7318c5686b"
   },
   "outputs": [
    {
     "data": {
      "text/plain": [
       "[1, 2, 3, 4, 5, 6, 7, 8, 9, 10]"
      ]
     },
     "execution_count": 27,
     "metadata": {},
     "output_type": "execute_result"
    }
   ],
   "source": [
    "num.reverse()\n",
    "num"
   ]
  },
  {
   "cell_type": "markdown",
   "metadata": {
    "id": "9M4w3YflD6rU"
   },
   "source": [
    "##Ejercicio 5\n",
    "Definir una variable y escribir un código que te muestre un rango de variables."
   ]
  },
  {
   "cell_type": "code",
   "execution_count": null,
   "metadata": {
    "colab": {
     "base_uri": "https://localhost:8080/"
    },
    "id": "3M7-ndf1D7kg",
    "outputId": "55946b5b-7a6d-46b8-d93c-acbe55f7c3db"
   },
   "outputs": [
    {
     "name": "stdout",
     "output_type": "stream",
     "text": [
      "range(0, 10)\n"
     ]
    },
    {
     "data": {
      "text/plain": [
       "[0, 1, 2, 3, 4, 5, 6, 7, 8, 9]"
      ]
     },
     "execution_count": 28,
     "metadata": {},
     "output_type": "execute_result"
    }
   ],
   "source": [
    "x = range(10)\n",
    "print (x)\n",
    "list(x)"
   ]
  },
  {
   "cell_type": "markdown",
   "metadata": {
    "id": "e34jgTHvxCJ-"
   },
   "source": [
    "##Ejercicio 6\n",
    "Escribir un programa que almacene en una lista los siguientes precios, 50, 75, 46, 22, 80, 65, 8, y muestre por pantalla una lista del menor y al mayor de los precios.\n"
   ]
  },
  {
   "cell_type": "code",
   "execution_count": null,
   "metadata": {
    "colab": {
     "base_uri": "https://localhost:8080/"
    },
    "id": "Tmie-o5kxCjv",
    "outputId": "0850c25a-cdc6-4f5c-bae1-1a4ac7b30722"
   },
   "outputs": [
    {
     "data": {
      "text/plain": [
       "[8, 22, 46, 50, 65, 75, 80]"
      ]
     },
     "execution_count": 22,
     "metadata": {},
     "output_type": "execute_result"
    }
   ],
   "source": [
    "precios = [50, 75, 46, 22, 80, 65, 8]\n",
    "precios.sort()\n",
    "precios\n"
   ]
  },
  {
   "cell_type": "markdown",
   "metadata": {
    "id": "EWEeCFqnxCw4"
   },
   "source": [
    "##Ejercicios 7\n",
    "Escribir un programa que almacene los vectores (1,2,3) y (-1,0,2) en dos listas y juntarlos en un solo vector.\n"
   ]
  },
  {
   "cell_type": "code",
   "execution_count": null,
   "metadata": {
    "colab": {
     "base_uri": "https://localhost:8080/"
    },
    "id": "u8BALFjzxEXu",
    "outputId": "baf8b57d-db86-428e-80eb-d00cf6cf0a4f"
   },
   "outputs": [
    {
     "data": {
      "text/plain": [
       "[1, 2, 3, -1, 0, 2]"
      ]
     },
     "execution_count": 24,
     "metadata": {},
     "output_type": "execute_result"
    }
   ],
   "source": [
    "Vector_1 = [1,2,3]\n",
    "Vector_2 = [-1,0,2]\n",
    "Vector= Vector_1 + Vector_2\n",
    "Vector"
   ]
  },
  {
   "cell_type": "markdown",
   "metadata": {
    "id": "f5uLuQmExEfv"
   },
   "source": [
    "##Ejercicio 8\n",
    "El vector creado anteriormente júntelo con el vector de sus platos favoritos. Es decir: [1,2,3,-1,0,2, (tallarines, ceviche, lomo, frijol y cabrito)]\n"
   ]
  },
  {
   "cell_type": "code",
   "execution_count": null,
   "metadata": {
    "colab": {
     "base_uri": "https://localhost:8080/"
    },
    "id": "ql81uCIQxGEO",
    "outputId": "062b77a3-6e25-40dd-981b-126294d9e503"
   },
   "outputs": [
    {
     "data": {
      "text/plain": [
       "[1, 2, 3, -1, 0, 2, ['tallarines', 'lomo', 'frijol', 'cabrito']]"
      ]
     },
     "execution_count": 25,
     "metadata": {},
     "output_type": "execute_result"
    }
   ],
   "source": [
    "Vector_copy = Vector[:] \n",
    "Vector_copy.append(platos)\n",
    "Vector_copy"
   ]
  },
  {
   "cell_type": "markdown",
   "metadata": {
    "id": "kK9abGfT8BOT"
   },
   "source": [
    "#Tarea 2 \n",
    "\n"
   ]
  },
  {
   "cell_type": "markdown",
   "metadata": {
    "id": "e75kFVBIs10P"
   },
   "source": [
    "## Ejercicio 1\n",
    "\n",
    "Harris-Benedict elaboró una fórmula para calcular la cantidad optima de calorias que una persona debe consumir. Esta puede ser simplificada mediante la siguiente regla:\n",
    "* Hombres: multiplicar el peso en kg por 25.\n",
    "* Mujeres: multiplicar el peso en kg por 23.\n",
    "\n",
    "Cree una función que permita calcular las calorías que usted debe consumir. Esta función debe tener como inputs el sexo y el peso de la persona. "
   ]
  },
  {
   "cell_type": "code",
   "execution_count": 47,
   "metadata": {
    "id": "FgWdqflpvfEB"
   },
   "outputs": [],
   "source": [
    "def Harris_Benedict(sexo, peso):\n",
    "  if sexo == \"Masculino\":\n",
    "    calorias = peso * 25\n",
    "  else: \n",
    "   calorias = peso *23\n",
    "  return calorias"
   ]
  },
  {
   "cell_type": "markdown",
   "metadata": {
    "id": "FM-AMfjXs6Q2"
   },
   "source": [
    "\n",
    "\n",
    "## Ejercicio 2\n",
    "\n",
    "Cree una función sencilla relacionada con su carrera. Esta debe tener dos inputs y un output.\n",
    "\n",
    "\n",
    "\n"
   ]
  },
  {
   "cell_type": "code",
   "execution_count": 54,
   "metadata": {
    "id": "TXZ46vBXs4MP"
   },
   "outputs": [],
   "source": [
    "def invoice(amount, igv):\n",
    "    \"\"\"Función de aplica el IGV a una boleta.\n",
    "    Parametros\n",
    "    amount: Es la cantidad sin IGV\n",
    "    vat: Es el porcentaje de IGV\n",
    "    Devuelve el total de la boleta una vez aplicado el IGV. \n",
    "    \"\"\"\n",
    "    return amount + amount*igv/100\n",
    "\n"
   ]
  },
  {
   "cell_type": "markdown",
   "metadata": {
    "id": "JuBP8kr_s4tR"
   },
   "source": [
    "## Ejercicio 3\n",
    "\n",
    "Cree un segundo script en el que importe las dos funciones de los ejercicios 1 y 2. Calcule las calorías que usted debe consumir y ponga a prueba la función que usted creo."
   ]
  },
  {
   "cell_type": "code",
   "execution_count": 58,
   "metadata": {
    "colab": {
     "base_uri": "https://localhost:8080/"
    },
    "id": "fr0a1CmBs5Hf",
    "outputId": "46e1ad9c-127d-435a-826b-284d0472dbe1"
   },
   "outputs": [
    {
     "name": "stdout",
     "output_type": "stream",
     "text": [
      "Las calorías que debes consumir son: 1426\n",
      "Tu boleta es 118.0 soles\n"
     ]
    }
   ],
   "source": [
    "print('Las calorías que debes consumir son:', Harris_Benedict(\"Femenino\",62))\n",
    "print('Tu boleta es',invoice(100,18), 'soles')\n"
   ]
  },
  {
   "cell_type": "markdown",
   "metadata": {
    "id": "iInhRI4Ts3-T"
   },
   "source": [
    "## Ejercicio 4\n",
    "\n",
    "1. Cree un diccionario vacío llamado *mi_lugar_de_nacimiento*.\n",
    "2. Inserte las claves departamento, provincia, distrito, ubigeo, extensión y poblacion con sus respectivos valores.\n",
    "3. Borre la clave ubigeo y añada una nueva clave llamada mi_comida, donde el valor será su comida favorita del lugar donde nació.\n",
    "4. Imprima su diccionario. \n",
    "5. Use get() para requerir la clave mi_lugar, la respuesta debe ser 'me gustan todos los lugares.\n"
   ]
  },
  {
   "cell_type": "code",
   "execution_count": 60,
   "metadata": {
    "colab": {
     "base_uri": "https://localhost:8080/"
    },
    "id": "X3CTxo8bpvsN",
    "outputId": "1f430c7f-b128-48f6-f69f-67002163ddc4"
   },
   "outputs": [
    {
     "data": {
      "text/plain": [
       "{}"
      ]
     },
     "execution_count": 60,
     "metadata": {},
     "output_type": "execute_result"
    }
   ],
   "source": [
    "mi_lugar_de_nacimiento = {}\n",
    "mi_lugar_de_nacimiento"
   ]
  },
  {
   "cell_type": "code",
   "execution_count": 61,
   "metadata": {
    "colab": {
     "base_uri": "https://localhost:8080/"
    },
    "id": "jARCYgSls7RS",
    "outputId": "931f187d-da8d-4f31-ba6b-a1717d47de95"
   },
   "outputs": [
    {
     "data": {
      "text/plain": [
       "{'provincia': 'Callao',\n",
       " 'distrito': 'Callao',\n",
       " 'ubigeo': '070101',\n",
       " 'extensión': 1.25,\n",
       " 'poblacion': 3.1}"
      ]
     },
     "execution_count": 61,
     "metadata": {},
     "output_type": "execute_result"
    }
   ],
   "source": [
    "mi_lugar_de_nacimiento = {'provincia': 'Callao', 'distrito':'Callao', 'ubigeo':'070101', 'extensión':1.25 , 'poblacion': 3.1 }\n",
    "mi_lugar_de_nacimiento"
   ]
  },
  {
   "cell_type": "code",
   "execution_count": 62,
   "metadata": {
    "id": "53nsrIgzrIPM"
   },
   "outputs": [],
   "source": [
    "del mi_lugar_de_nacimiento['ubigeo']\n",
    "mi_lugar_de_nacimiento['mi_comida'] = 'ceviche' "
   ]
  },
  {
   "cell_type": "code",
   "execution_count": 64,
   "metadata": {
    "colab": {
     "base_uri": "https://localhost:8080/"
    },
    "id": "iwI4KXPTqFDo",
    "outputId": "07857b6a-3843-4fbe-ef0f-663400b89761"
   },
   "outputs": [
    {
     "name": "stdout",
     "output_type": "stream",
     "text": [
      "{'provincia': 'Callao', 'distrito': 'Callao', 'extensión': 1.25, 'poblacion': 3.1, 'mi_comida': 'ceviche'}\n"
     ]
    }
   ],
   "source": [
    "print(mi_lugar_de_nacimiento)"
   ]
  },
  {
   "cell_type": "code",
   "execution_count": 65,
   "metadata": {
    "colab": {
     "base_uri": "https://localhost:8080/",
     "height": 35
    },
    "id": "j_f66-Ps1eck",
    "outputId": "cc726be0-018e-4d69-ae46-9c16eaa768bd"
   },
   "outputs": [
    {
     "data": {
      "application/vnd.google.colaboratory.intrinsic+json": {
       "type": "string"
      },
      "text/plain": [
       "'me gustan todos los lugares'"
      ]
     },
     "execution_count": 65,
     "metadata": {},
     "output_type": "execute_result"
    }
   ],
   "source": [
    "mi_lugar_de_nacimiento.get('mi_lugar','me gustan todos los lugares')"
   ]
  },
  {
   "cell_type": "markdown",
   "metadata": {
    "id": "LHP2lQar8Mjj"
   },
   "source": [
    "###Ejercicio 5\n",
    "\n",
    "Escribir un programa que pregunte al usuario su edad y muestre por pantalla si mayor de edad o no. (usar if o else)\n"
   ]
  },
  {
   "cell_type": "code",
   "execution_count": null,
   "metadata": {
    "colab": {
     "base_uri": "https://localhost:8080/"
    },
    "id": "bkux1mLa8N2r",
    "outputId": "abb6106d-6ad1-4ade-d257-37da90c0d598"
   },
   "outputs": [
    {
     "name": "stdout",
     "output_type": "stream",
     "text": [
      "¿Cuál es tu edad? 2\n",
      "Eres menor de edad.\n"
     ]
    }
   ],
   "source": [
    "age = int(input(\"¿Cuál es tu edad? \"))\n",
    "if age < 18: \n",
    "    print (\"Eres menor de edad.\")\n",
    "else:\n",
    "    print(\"Eres mayor de edad.\")"
   ]
  },
  {
   "cell_type": "markdown",
   "metadata": {
    "id": "FnnYyzUE8OUI"
   },
   "source": [
    "##Ejercicio 6\n",
    "Escribir un programa que pida al usuario un número entero y muestre por pantalla si es par o impar.\n"
   ]
  },
  {
   "cell_type": "code",
   "execution_count": null,
   "metadata": {
    "colab": {
     "base_uri": "https://localhost:8080/"
    },
    "id": "Z5Dnbt648Rjb",
    "outputId": "48ebc2f0-ca66-4850-878e-9c029a2d0aa5"
   },
   "outputs": [
    {
     "name": "stdout",
     "output_type": "stream",
     "text": [
      "Introduce un número entero: 4\n",
      "El número 4 es par\n"
     ]
    }
   ],
   "source": [
    "n = int(input(\"Introduce un número entero: \"))\n",
    "if n % 2 == 0:\n",
    "    print(\"El número \" + str(n) + \" es par\")\n",
    "else:\n",
    "    print(\"El número \" + str(n) + \" es impar\")"
   ]
  },
  {
   "cell_type": "markdown",
   "metadata": {
    "id": "u3VO5v0J8R-J"
   },
   "source": [
    "##Ejercicio 7\n",
    "Con un ciclo for que haga sus iteraciones en sentido inverso, es decir, disminuyendo el valor del paso, desde el 100 hasta el 0."
   ]
  },
  {
   "cell_type": "code",
   "execution_count": null,
   "metadata": {
    "colab": {
     "base_uri": "https://localhost:8080/"
    },
    "id": "tIQdsApJ8VlQ",
    "outputId": "91e7e8a1-e07f-4a42-ab6a-77c8656f79ee"
   },
   "outputs": [
    {
     "name": "stdout",
     "output_type": "stream",
     "text": [
      "100\n",
      "99\n",
      "98\n",
      "97\n",
      "96\n",
      "95\n",
      "94\n",
      "93\n",
      "92\n",
      "91\n",
      "90\n",
      "89\n",
      "88\n",
      "87\n",
      "86\n",
      "85\n",
      "84\n",
      "83\n",
      "82\n",
      "81\n",
      "80\n",
      "79\n",
      "78\n",
      "77\n",
      "76\n",
      "75\n",
      "74\n",
      "73\n",
      "72\n",
      "71\n",
      "70\n",
      "69\n",
      "68\n",
      "67\n",
      "66\n",
      "65\n",
      "64\n",
      "63\n",
      "62\n",
      "61\n",
      "60\n",
      "59\n",
      "58\n",
      "57\n",
      "56\n",
      "55\n",
      "54\n",
      "53\n",
      "52\n",
      "51\n",
      "50\n",
      "49\n",
      "48\n",
      "47\n",
      "46\n",
      "45\n",
      "44\n",
      "43\n",
      "42\n",
      "41\n",
      "40\n",
      "39\n",
      "38\n",
      "37\n",
      "36\n",
      "35\n",
      "34\n",
      "33\n",
      "32\n",
      "31\n",
      "30\n",
      "29\n",
      "28\n",
      "27\n",
      "26\n",
      "25\n",
      "24\n",
      "23\n",
      "22\n",
      "21\n",
      "20\n",
      "19\n",
      "18\n",
      "17\n",
      "16\n",
      "15\n",
      "14\n",
      "13\n",
      "12\n",
      "11\n",
      "10\n",
      "9\n",
      "8\n",
      "7\n",
      "6\n",
      "5\n",
      "4\n",
      "3\n",
      "2\n",
      "1\n",
      "0\n"
     ]
    }
   ],
   "source": [
    "for i in range(100, -1, -1):\n",
    "    print(i)"
   ]
  }
 ],
 "metadata": {
  "colab": {
   "authorship_tag": "ABX9TyOySqrjXWwFJuOqkpJnaY5p",
   "include_colab_link": true,
   "name": "Solucionario.ipynb",
   "provenance": []
  },
  "kernelspec": {
   "display_name": "Python 3 (ipykernel)",
   "language": "python",
   "name": "python3"
  },
  "language_info": {
   "codemirror_mode": {
    "name": "ipython",
    "version": 3
   },
   "file_extension": ".py",
   "mimetype": "text/x-python",
   "name": "python",
   "nbconvert_exporter": "python",
   "pygments_lexer": "ipython3",
   "version": "3.9.13"
  }
 },
 "nbformat": 4,
 "nbformat_minor": 4
}
