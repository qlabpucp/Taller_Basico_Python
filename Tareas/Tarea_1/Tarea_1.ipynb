{
 "cells": [
  {
   "cell_type": "markdown",
   "metadata": {
    "colab_type": "text",
    "id": "view-in-github"
   },
   "source": [
    "<a href=\"https://colab.research.google.com/github/darlaabril/Taller-Python/blob/main/Tarea_1.ipynb\" target=\"_parent\"><img src=\"https://colab.research.google.com/assets/colab-badge.svg\" alt=\"Open In Colab\"/></a>"
   ]
  },
  {
   "cell_type": "markdown",
   "metadata": {
    "id": "76aahSrJweAK"
   },
   "source": [
    "#Tarea 1\n",
    "\n"
   ]
  },
  {
   "cell_type": "markdown",
   "metadata": {
    "id": "jLxvK7puwilm"
   },
   "source": [
    "##Ejercicio 1\n",
    "Escribir un programa que almacene sus platos favoritos (por ejemplo tallarines, ceviche, lomo, frijol y cabrito) en una lista y la muestre por pantalla."
   ]
  },
  {
   "cell_type": "code",
   "execution_count": null,
   "metadata": {
    "id": "gmbpVE0HwrjW"
   },
   "outputs": [],
   "source": []
  },
  {
   "cell_type": "markdown",
   "metadata": {
    "id": "nydh-ayRwtsu"
   },
   "source": [
    "##Ejercicio 2\n",
    "Escribir un programa que almacene las asignaturas de un curso sus platos favoritos (por ejemplo tallarines, ceviche, lomo, frijol y cabrito)  en una lista y la muestre por pantalla el mensaje “ A mi me gusta comer <*plato*> “, donde <*plato*> es cada una de sus platos de comida favoritos"
   ]
  },
  {
   "cell_type": "code",
   "execution_count": null,
   "metadata": {
    "id": "ChrtlwdEwxOH"
   },
   "outputs": [],
   "source": []
  },
  {
   "cell_type": "markdown",
   "metadata": {
    "id": "Ys4ezVTxwxz-"
   },
   "source": [
    "##Ejercicio 3\n",
    "Escribir un programa que almacene las asignaturas de un curso (por ejemplo Matemáticas, Física, Química, Historia y Lengua) en una lista, pregunte al usuario la nota que ha sacado en cada asignatura, y después las muestre por pantalla con el mensaje En <*asignatura*> has sacado <*nota*> donde <*asignatura*> es cada una des las asignaturas de la lista y <*nota*> cada una de las correspondientes notas introducidas por el usuario.\n"
   ]
  },
  {
   "cell_type": "code",
   "execution_count": null,
   "metadata": {
    "id": "Uo-VaBh5w1hu"
   },
   "outputs": [],
   "source": []
  },
  {
   "cell_type": "markdown",
   "metadata": {
    "id": "-u6SF-7Gw2CG"
   },
   "source": [
    "##Ejercicio 4\n",
    "Escribir un programa que almacene en una lista los números del 1 al 10 y los muestre por pantalla en orden inverso separados por comas.\n"
   ]
  },
  {
   "cell_type": "code",
   "execution_count": null,
   "metadata": {
    "id": "O3esdwPfw5MI"
   },
   "outputs": [],
   "source": []
  },
  {
   "cell_type": "markdown",
   "metadata": {
    "id": "GmUzSQNpw_X3"
   },
   "source": [
    "##Ejercicio 5\n",
    "Definir una variable y escribir un código que te muestre un rango de variables.\n"
   ]
  },
  {
   "cell_type": "code",
   "execution_count": null,
   "metadata": {
    "id": "JFs8Ead1w_yP"
   },
   "outputs": [],
   "source": []
  },
  {
   "cell_type": "markdown",
   "metadata": {
    "id": "e34jgTHvxCJ-"
   },
   "source": [
    "##Ejercicio 6\n",
    "Escribir un programa que almacene en una lista los siguientes precios, 50, 75, 46, 22, 80, 65, 8, y muestre por pantalla una lista del menor al mayor de los precios.\n"
   ]
  },
  {
   "cell_type": "code",
   "execution_count": null,
   "metadata": {
    "id": "Tmie-o5kxCjv"
   },
   "outputs": [],
   "source": []
  },
  {
   "cell_type": "markdown",
   "metadata": {
    "id": "EWEeCFqnxCw4"
   },
   "source": [
    "##Ejercicios 7\n",
    "Escribir un programa que almacene los vectores (1,2,3) y (-1,0,2) en dos listas y juntarlos en un solo vector.\n"
   ]
  },
  {
   "cell_type": "code",
   "execution_count": null,
   "metadata": {
    "id": "u8BALFjzxEXu"
   },
   "outputs": [],
   "source": []
  },
  {
   "cell_type": "markdown",
   "metadata": {
    "id": "f5uLuQmExEfv"
   },
   "source": [
    "##Ejercicio 8\n",
    "El vector creado anteriormente júntelo con el vector de sus platos favoritos. Es decir: [1,2,3,-1,0,2, (tallarines, ceviche, lomo, frijol y cabrito)]\n"
   ]
  },
  {
   "cell_type": "code",
   "execution_count": null,
   "metadata": {
    "id": "ql81uCIQxGEO"
   },
   "outputs": [],
   "source": []
  }
 ],
 "metadata": {
  "colab": {
   "authorship_tag": "ABX9TyPvz48GleVy6Ql8qx8o0iUk",
   "include_colab_link": true,
   "name": "Tarea 1.ipynb",
   "provenance": []
  },
  "kernelspec": {
   "display_name": "Python 3 (ipykernel)",
   "language": "python",
   "name": "python3"
  },
  "language_info": {
   "codemirror_mode": {
    "name": "ipython",
    "version": 3
   },
   "file_extension": ".py",
   "mimetype": "text/x-python",
   "name": "python",
   "nbconvert_exporter": "python",
   "pygments_lexer": "ipython3",
   "version": "3.9.13"
  }
 },
 "nbformat": 4,
 "nbformat_minor": 4
}
